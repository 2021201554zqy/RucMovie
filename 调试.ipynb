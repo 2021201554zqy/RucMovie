{
 "cells": [
  {
   "cell_type": "code",
   "execution_count": 2,
   "id": "5fce3ebd",
   "metadata": {},
   "outputs": [],
   "source": [
    "from flask import Flask, render_template\n",
    "from flask_sqlalchemy import SQLAlchemy # 导入扩展类\n",
    "import os\n",
    "import sys\n",
    "import click\n",
    "WIN = sys.platform.startswith('win')\n",
    "if WIN: # 如果是 Windows 系统，使用三个斜线\n",
    "    prefix = 'sqlite:///'\n",
    "else: # 否则使用四个斜线\n",
    "    prefix = 'sqlite:////'\n",
    "app = Flask(__name__)\n",
    "app.config['SQLALCHEMY_DATABASE_URI'] = prefix + os.path.join(app.root_path, 'data.db')\n",
    "app.config['SQLALCHEMY_TRACK_MODIFICATIONS'] = False # 关闭对模型\n",
    "\n",
    "\n",
    "db = SQLAlchemy(app) # 初始化扩展，传入程序实例 app\n",
    "\n",
    "class User(db.Model): # 表名将会是 user（自动生成，小写处理）\n",
    "    id = db.Column(db.Integer, primary_key=True) # 主键\n",
    "    name = db.Column(db.String(20)) # 名字\n",
    "class Movie(db.Model): # 表名将会是 movie\n",
    "    id = db.Column(db.Integer, primary_key=True) # 主键\n",
    "    title = db.Column(db.String(60)) # 电影标题\n",
    "    year = db.Column(db.String(4)) # 电影年份\n",
    "\n",
    "name = 'Grace Zhang'\n",
    "movies = [\n",
    "{'title': 'My Neighbor Totoro', 'year': '1988'},\n",
    "{'title': 'Dead Poets Society', 'year': '1989'},\n",
    "{'title': 'A Perfect World', 'year': '1993'},\n",
    "{'title': 'Leon', 'year': '1994'},\n",
    "{'title': 'Mahjong', 'year': '1996'},\n",
    "{'title': 'Swallowtail Butterfly', 'year': '1996'},\n",
    "{'title': 'King of Comedy', 'year': '1999'},\n",
    "{'title': 'Devils on the Doorstep', 'year': '1999'},\n",
    "{'title': 'WALL-E', 'year': '2008'},\n",
    "{'title': 'The Pork of Music', 'year': '2012'},]\n",
    "# @app.route('/')\n",
    "# def index():\n",
    "    \n",
    "#     return render_template('index.html', name=name, movies=movies)\n",
    "\n",
    "\n",
    "\n",
    "# def inject_user(): # 函数名可以随意修改\n",
    "#     user = User.query.first()\n",
    "#     return dict(user=user) # 需要返回字典，等同于return {'user': user}\n",
    "\n",
    "\n",
    "# @app.errorhandler(404) # 传入要处理的错误代码\n",
    "# def page_not_found(e): # 接受异常对象作为参数\n",
    "#     user = User.query.first()\n",
    "#     return render_template('404.html', user=user), 404 # 返回模板和状态码\n",
    "\n",
    "# @app.context_processor\n",
    "# @app.cli.command() # 注册为命令\n",
    "# @click.option('--drop', is_flag=True, help='Create after drop.')\n",
    "# # 设置选项\n",
    "# def initdb(drop):\n",
    "#     \"\"\"Initialize the database.\"\"\"\n",
    "#     if drop: # 判断是否输入了选项\n",
    "#         db.drop_all()\n",
    "#     db.create_all()\n",
    "#     click.echo('Initialized database.') # 输出提示信息"
   ]
  },
  {
   "cell_type": "code",
   "execution_count": 5,
   "id": "a13fac93",
   "metadata": {},
   "outputs": [],
   "source": [
    "# from app import db\n",
    "app.app_context().push()\n",
    "db.create_all()\n"
   ]
  },
  {
   "cell_type": "code",
   "execution_count": 6,
   "id": "56096759",
   "metadata": {},
   "outputs": [],
   "source": [
    "user = User(name='Grey Li') # 创建一个 User 记录\n",
    "m1 = Movie(title='Leon', year='1994') # 创建一个 Movie 记录\n",
    "m2 = Movie(title='Mahjong', year='1996') # 再创建一个 Movie\n",
    "db.session.add(user) # 把新创建的记录添加到数据库会话\n",
    "db.session.add(m1)\n",
    "db.session.add(m2)\n",
    "db.session.commit() #"
   ]
  },
  {
   "cell_type": "code",
   "execution_count": 10,
   "id": "4e3b1944",
   "metadata": {},
   "outputs": [],
   "source": [
    " movie = Movie.query.all() "
   ]
  },
  {
   "cell_type": "code",
   "execution_count": 12,
   "id": "d0e5d087",
   "metadata": {},
   "outputs": [
    {
     "data": {
      "text/plain": [
       "[<Movie 1>, <Movie 2>]"
      ]
     },
     "execution_count": 12,
     "metadata": {},
     "output_type": "execute_result"
    }
   ],
   "source": [
    "movie"
   ]
  },
  {
   "cell_type": "code",
   "execution_count": 13,
   "id": "a77763de",
   "metadata": {},
   "outputs": [],
   "source": [
    "import pandas as pd"
   ]
  },
  {
   "cell_type": "code",
   "execution_count": 14,
   "id": "7bbb14b6",
   "metadata": {},
   "outputs": [
    {
     "data": {
      "text/html": [
       "<div>\n",
       "<style scoped>\n",
       "    .dataframe tbody tr th:only-of-type {\n",
       "        vertical-align: middle;\n",
       "    }\n",
       "\n",
       "    .dataframe tbody tr th {\n",
       "        vertical-align: top;\n",
       "    }\n",
       "\n",
       "    .dataframe thead th {\n",
       "        text-align: right;\n",
       "    }\n",
       "</style>\n",
       "<table border=\"1\" class=\"dataframe\">\n",
       "  <thead>\n",
       "    <tr style=\"text-align: right;\">\n",
       "      <th></th>\n",
       "      <th>0</th>\n",
       "    </tr>\n",
       "  </thead>\n",
       "  <tbody>\n",
       "    <tr>\n",
       "      <th>0</th>\n",
       "      <td>&lt;Movie 1&gt;</td>\n",
       "    </tr>\n",
       "    <tr>\n",
       "      <th>1</th>\n",
       "      <td>&lt;Movie 2&gt;</td>\n",
       "    </tr>\n",
       "  </tbody>\n",
       "</table>\n",
       "</div>"
      ],
      "text/plain": [
       "           0\n",
       "0  <Movie 1>\n",
       "1  <Movie 2>"
      ]
     },
     "execution_count": 14,
     "metadata": {},
     "output_type": "execute_result"
    }
   ],
   "source": [
    "pd.DataFrame(movie)"
   ]
  },
  {
   "cell_type": "code",
   "execution_count": null,
   "id": "adf88d49",
   "metadata": {},
   "outputs": [],
   "source": []
  }
 ],
 "metadata": {
  "kernelspec": {
   "display_name": "Python 3 (ipykernel)",
   "language": "python",
   "name": "python3"
  },
  "language_info": {
   "codemirror_mode": {
    "name": "ipython",
    "version": 3
   },
   "file_extension": ".py",
   "mimetype": "text/x-python",
   "name": "python",
   "nbconvert_exporter": "python",
   "pygments_lexer": "ipython3",
   "version": "3.11.3"
  }
 },
 "nbformat": 4,
 "nbformat_minor": 5
}
