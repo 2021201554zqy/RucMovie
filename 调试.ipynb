{
 "cells": [
  {
   "cell_type": "code",
   "execution_count": 1,
   "id": "5fce3ebd",
   "metadata": {},
   "outputs": [],
   "source": [
    "from flask import Flask, render_template\n",
    "from flask_sqlalchemy import SQLAlchemy # 导入扩展类\n",
    "import os\n",
    "import sys\n",
    "import click\n",
    "WIN = sys.platform.startswith('win')\n",
    "if WIN: # 如果是 Windows 系统，使用三个斜线\n",
    "    prefix = 'sqlite:///'\n",
    "else: # 否则使用四个斜线\n",
    "    prefix = 'sqlite:////'\n",
    "app = Flask(__name__)\n",
    "app.config['SQLALCHEMY_DATABASE_URI'] = prefix + os.path.join(app.root_path, 'data.db')\n",
    "app.config['SQLALCHEMY_TRACK_MODIFICATIONS'] = False # 关闭对模型\n",
    "\n",
    "\n",
    "db = SQLAlchemy(app) # 初始化扩展，传入程序实例 app\n",
    "\n",
    "class User(db.Model): # 表名将会是 user（自动生成，小写处理）\n",
    "    id = db.Column(db.Integer, primary_key=True) # 主键\n",
    "    name = db.Column(db.String(20)) # 名字\n",
    "class Movie(db.Model): # 表名将会是 movie\n",
    "    id = db.Column(db.Integer, primary_key=True) # 主键\n",
    "    title = db.Column(db.String(60)) # 电影标题\n",
    "    year = db.Column(db.String(4)) # 电影年份\n",
    "\n",
    "name = 'Grace Zhang'\n",
    "movies = [\n",
    "{'title': 'My Neighbor Totoro', 'year': '1988'},\n",
    "{'title': 'Dead Poets Society', 'year': '1989'},\n",
    "{'title': 'A Perfect World', 'year': '1993'},\n",
    "{'title': 'Leon', 'year': '1994'},\n",
    "{'title': 'Mahjong', 'year': '1996'},\n",
    "{'title': 'Swallowtail Butterfly', 'year': '1996'},\n",
    "{'title': 'King of Comedy', 'year': '1999'},\n",
    "{'title': 'Devils on the Doorstep', 'year': '1999'},\n",
    "{'title': 'WALL-E', 'year': '2008'},\n",
    "{'title': 'The Pork of Music', 'year': '2012'},]\n",
    "# @app.route('/')\n",
    "# def index():\n",
    "    \n",
    "#     return render_template('index.html', name=name, movies=movies)\n",
    "\n",
    "\n",
    "\n",
    "# def inject_user(): # 函数名可以随意修改\n",
    "#     user = User.query.first()\n",
    "#     return dict(user=user) # 需要返回字典，等同于return {'user': user}\n",
    "\n",
    "\n",
    "# @app.errorhandler(404) # 传入要处理的错误代码\n",
    "# def page_not_found(e): # 接受异常对象作为参数\n",
    "#     user = User.query.first()\n",
    "#     return render_template('404.html', user=user), 404 # 返回模板和状态码\n",
    "\n",
    "# @app.context_processor\n",
    "# @app.cli.command() # 注册为命令\n",
    "# @click.option('--drop', is_flag=True, help='Create after drop.')\n",
    "# # 设置选项\n",
    "# def initdb(drop):\n",
    "#     \"\"\"Initialize the database.\"\"\"\n",
    "#     if drop: # 判断是否输入了选项\n",
    "#         db.drop_all()\n",
    "#     db.create_all()\n",
    "#     click.echo('Initialized database.') # 输出提示信息"
   ]
  },
  {
   "cell_type": "code",
   "execution_count": 6,
   "id": "a13fac93",
   "metadata": {},
   "outputs": [],
   "source": [
    "# from app import db\n",
    "app.app_context().push()\n",
    "db.create_all()\n"
   ]
  },
  {
   "cell_type": "code",
   "execution_count": 36,
   "id": "56096759",
   "metadata": {},
   "outputs": [],
   "source": [
    "user = User(name='Grey Li') # 创建一个 User 记录\n",
    "m1 = Movie(title='Leon', year='1994') # 创建一个 Movie 记录\n",
    "m2 = Movie(title='Mahjong', year='1996') # 再创建一个 Movie\n",
    "db.session.add(user) # 把新创建的记录添加到数据库会话\n",
    "db.session.add(m1)\n",
    "db.session.add(m2)\n",
    "db.session.commit() #"
   ]
  },
  {
   "cell_type": "code",
   "execution_count": 37,
   "id": "4e3b1944",
   "metadata": {},
   "outputs": [],
   "source": [
    " movie = Movie.query.all() "
   ]
  },
  {
   "cell_type": "code",
   "execution_count": 38,
   "id": "d0e5d087",
   "metadata": {},
   "outputs": [
    {
     "data": {
      "text/plain": [
       "[<Movie 2>, <Movie 3>, <Movie 4>, <Movie 5>, <Movie 6>, <Movie 7>, <Movie 8>]"
      ]
     },
     "execution_count": 38,
     "metadata": {},
     "output_type": "execute_result"
    }
   ],
   "source": [
    "movie"
   ]
  },
  {
   "cell_type": "code",
   "execution_count": 39,
   "id": "a77763de",
   "metadata": {},
   "outputs": [],
   "source": [
    "import pandas as pd"
   ]
  },
  {
   "cell_type": "code",
   "execution_count": 40,
   "id": "7bbb14b6",
   "metadata": {
    "scrolled": true
   },
   "outputs": [
    {
     "data": {
      "text/html": [
       "<div>\n",
       "<style scoped>\n",
       "    .dataframe tbody tr th:only-of-type {\n",
       "        vertical-align: middle;\n",
       "    }\n",
       "\n",
       "    .dataframe tbody tr th {\n",
       "        vertical-align: top;\n",
       "    }\n",
       "\n",
       "    .dataframe thead th {\n",
       "        text-align: right;\n",
       "    }\n",
       "</style>\n",
       "<table border=\"1\" class=\"dataframe\">\n",
       "  <thead>\n",
       "    <tr style=\"text-align: right;\">\n",
       "      <th></th>\n",
       "      <th>0</th>\n",
       "    </tr>\n",
       "  </thead>\n",
       "  <tbody>\n",
       "    <tr>\n",
       "      <th>0</th>\n",
       "      <td>&lt;Movie 2&gt;</td>\n",
       "    </tr>\n",
       "    <tr>\n",
       "      <th>1</th>\n",
       "      <td>&lt;Movie 3&gt;</td>\n",
       "    </tr>\n",
       "    <tr>\n",
       "      <th>2</th>\n",
       "      <td>&lt;Movie 4&gt;</td>\n",
       "    </tr>\n",
       "    <tr>\n",
       "      <th>3</th>\n",
       "      <td>&lt;Movie 5&gt;</td>\n",
       "    </tr>\n",
       "    <tr>\n",
       "      <th>4</th>\n",
       "      <td>&lt;Movie 6&gt;</td>\n",
       "    </tr>\n",
       "    <tr>\n",
       "      <th>5</th>\n",
       "      <td>&lt;Movie 7&gt;</td>\n",
       "    </tr>\n",
       "    <tr>\n",
       "      <th>6</th>\n",
       "      <td>&lt;Movie 8&gt;</td>\n",
       "    </tr>\n",
       "  </tbody>\n",
       "</table>\n",
       "</div>"
      ],
      "text/plain": [
       "           0\n",
       "0  <Movie 2>\n",
       "1  <Movie 3>\n",
       "2  <Movie 4>\n",
       "3  <Movie 5>\n",
       "4  <Movie 6>\n",
       "5  <Movie 7>\n",
       "6  <Movie 8>"
      ]
     },
     "execution_count": 40,
     "metadata": {},
     "output_type": "execute_result"
    }
   ],
   "source": [
    "pd.DataFrame(movie)"
   ]
  },
  {
   "cell_type": "code",
   "execution_count": 41,
   "id": "adf88d49",
   "metadata": {},
   "outputs": [],
   "source": [
    " user= User.query.all() "
   ]
  },
  {
   "cell_type": "code",
   "execution_count": 42,
   "id": "dfb8402d",
   "metadata": {},
   "outputs": [
    {
     "data": {
      "text/plain": [
       "7"
      ]
     },
     "execution_count": 42,
     "metadata": {},
     "output_type": "execute_result"
    }
   ],
   "source": [
    "Movie.query.count()"
   ]
  },
  {
   "cell_type": "code",
   "execution_count": 43,
   "id": "34df2852",
   "metadata": {},
   "outputs": [
    {
     "data": {
      "text/plain": [
       "4"
      ]
     },
     "execution_count": 43,
     "metadata": {},
     "output_type": "execute_result"
    }
   ],
   "source": [
    "User.query.count()"
   ]
  },
  {
   "cell_type": "code",
   "execution_count": 44,
   "id": "b51dcc2e",
   "metadata": {},
   "outputs": [
    {
     "name": "stderr",
     "output_type": "stream",
     "text": [
      "C:\\Users\\qianyv\\AppData\\Local\\Temp\\ipykernel_5520\\3913154469.py:1: LegacyAPIWarning: The Query.get() method is considered legacy as of the 1.x series of SQLAlchemy and becomes a legacy construct in 2.0. The method is now available as Session.get() (deprecated since: 2.0) (Background on SQLAlchemy 2.0 at: https://sqlalche.me/e/b8d9)\n",
      "  Movie.query.get(1)\n"
     ]
    }
   ],
   "source": [
    "Movie.query.get(1) "
   ]
  },
  {
   "cell_type": "code",
   "execution_count": 45,
   "id": "a5b54c44",
   "metadata": {},
   "outputs": [],
   "source": [
    "user = User.query.first() # 读取用户记录\n",
    "movies = Movie.query.all() # 读取所有电影记录"
   ]
  },
  {
   "cell_type": "code",
   "execution_count": 35,
   "id": "02ce14a6",
   "metadata": {
    "scrolled": true
   },
   "outputs": [
    {
     "name": "stderr",
     "output_type": "stream",
     "text": [
      "C:\\Users\\qianyv\\AppData\\Local\\Temp\\ipykernel_5520\\2806706420.py:1: LegacyAPIWarning: The Query.get() method is considered legacy as of the 1.x series of SQLAlchemy and becomes a legacy construct in 2.0. The method is now available as Session.get() (deprecated since: 2.0) (Background on SQLAlchemy 2.0 at: https://sqlalche.me/e/b8d9)\n",
      "  movie = Movie.query.get(1)\n"
     ]
    },
    {
     "ename": "UnmappedInstanceError",
     "evalue": "Class 'builtins.NoneType' is not mapped",
     "output_type": "error",
     "traceback": [
      "\u001b[1;31m---------------------------------------------------------------------------\u001b[0m",
      "\u001b[1;31mAttributeError\u001b[0m                            Traceback (most recent call last)",
      "File \u001b[1;32mD:\\anaconda\\Lib\\site-packages\\sqlalchemy\\orm\\session.py:3494\u001b[0m, in \u001b[0;36mSession.delete\u001b[1;34m(self, instance)\u001b[0m\n\u001b[0;32m   3493\u001b[0m \u001b[38;5;28;01mtry\u001b[39;00m:\n\u001b[1;32m-> 3494\u001b[0m     state \u001b[38;5;241m=\u001b[39m attributes\u001b[38;5;241m.\u001b[39minstance_state(instance)\n\u001b[0;32m   3495\u001b[0m \u001b[38;5;28;01mexcept\u001b[39;00m exc\u001b[38;5;241m.\u001b[39mNO_STATE \u001b[38;5;28;01mas\u001b[39;00m err:\n",
      "\u001b[1;31mAttributeError\u001b[0m: 'NoneType' object has no attribute '_sa_instance_state'",
      "\nThe above exception was the direct cause of the following exception:\n",
      "\u001b[1;31mUnmappedInstanceError\u001b[0m                     Traceback (most recent call last)",
      "Cell \u001b[1;32mIn[35], line 2\u001b[0m\n\u001b[0;32m      1\u001b[0m movie \u001b[38;5;241m=\u001b[39m Movie\u001b[38;5;241m.\u001b[39mquery\u001b[38;5;241m.\u001b[39mget(\u001b[38;5;241m1\u001b[39m)\n\u001b[1;32m----> 2\u001b[0m db\u001b[38;5;241m.\u001b[39msession\u001b[38;5;241m.\u001b[39mdelete(movie) \u001b[38;5;66;03m# 使用 db.session.delete() 方法删除记录，传入模型实例\u001b[39;00m\n\u001b[0;32m      3\u001b[0m db\u001b[38;5;241m.\u001b[39msession\u001b[38;5;241m.\u001b[39mcommit()\n",
      "File \u001b[1;32mD:\\anaconda\\Lib\\site-packages\\sqlalchemy\\orm\\scoping.py:673\u001b[0m, in \u001b[0;36mscoped_session.delete\u001b[1;34m(self, instance)\u001b[0m\n\u001b[0;32m    645\u001b[0m \u001b[38;5;28;01mdef\u001b[39;00m \u001b[38;5;21mdelete\u001b[39m(\u001b[38;5;28mself\u001b[39m, instance: \u001b[38;5;28mobject\u001b[39m) \u001b[38;5;241m-\u001b[39m\u001b[38;5;241m>\u001b[39m \u001b[38;5;28;01mNone\u001b[39;00m:\n\u001b[0;32m    646\u001b[0m \u001b[38;5;250m    \u001b[39m\u001b[38;5;124mr\u001b[39m\u001b[38;5;124;03m\"\"\"Mark an instance as deleted.\u001b[39;00m\n\u001b[0;32m    647\u001b[0m \n\u001b[0;32m    648\u001b[0m \u001b[38;5;124;03m    .. container:: class_bases\u001b[39;00m\n\u001b[1;32m   (...)\u001b[0m\n\u001b[0;32m    670\u001b[0m \n\u001b[0;32m    671\u001b[0m \u001b[38;5;124;03m    \"\"\"\u001b[39;00m  \u001b[38;5;66;03m# noqa: E501\u001b[39;00m\n\u001b[1;32m--> 673\u001b[0m     \u001b[38;5;28;01mreturn\u001b[39;00m \u001b[38;5;28mself\u001b[39m\u001b[38;5;241m.\u001b[39m_proxied\u001b[38;5;241m.\u001b[39mdelete(instance)\n",
      "File \u001b[1;32mD:\\anaconda\\Lib\\site-packages\\sqlalchemy\\orm\\session.py:3496\u001b[0m, in \u001b[0;36mSession.delete\u001b[1;34m(self, instance)\u001b[0m\n\u001b[0;32m   3494\u001b[0m     state \u001b[38;5;241m=\u001b[39m attributes\u001b[38;5;241m.\u001b[39minstance_state(instance)\n\u001b[0;32m   3495\u001b[0m \u001b[38;5;28;01mexcept\u001b[39;00m exc\u001b[38;5;241m.\u001b[39mNO_STATE \u001b[38;5;28;01mas\u001b[39;00m err:\n\u001b[1;32m-> 3496\u001b[0m     \u001b[38;5;28;01mraise\u001b[39;00m exc\u001b[38;5;241m.\u001b[39mUnmappedInstanceError(instance) \u001b[38;5;28;01mfrom\u001b[39;00m \u001b[38;5;21;01merr\u001b[39;00m\n\u001b[0;32m   3498\u001b[0m \u001b[38;5;28mself\u001b[39m\u001b[38;5;241m.\u001b[39m_delete_impl(state, instance, head\u001b[38;5;241m=\u001b[39m\u001b[38;5;28;01mTrue\u001b[39;00m)\n",
      "\u001b[1;31mUnmappedInstanceError\u001b[0m: Class 'builtins.NoneType' is not mapped"
     ]
    }
   ],
   "source": [
    "movie = Movie.query.get(1)\n",
    "db.session.delete(movie) # 使用 db.session.delete() 方法删除记录，传入模型实例\n",
    "db.session.commit() # 提交改动"
   ]
  },
  {
   "cell_type": "code",
   "execution_count": null,
   "id": "f80f8e11",
   "metadata": {},
   "outputs": [],
   "source": []
  }
 ],
 "metadata": {
  "kernelspec": {
   "display_name": "Python 3 (ipykernel)",
   "language": "python",
   "name": "python3"
  },
  "language_info": {
   "codemirror_mode": {
    "name": "ipython",
    "version": 3
   },
   "file_extension": ".py",
   "mimetype": "text/x-python",
   "name": "python",
   "nbconvert_exporter": "python",
   "pygments_lexer": "ipython3",
   "version": "3.11.3"
  }
 },
 "nbformat": 4,
 "nbformat_minor": 5
}
