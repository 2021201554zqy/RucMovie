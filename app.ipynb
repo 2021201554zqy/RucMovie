{
 "cells": [
  {
   "cell_type": "code",
   "execution_count": 21,
   "id": "a8fbffe4",
   "metadata": {},
   "outputs": [
    {
     "ename": "AssertionError",
     "evalue": "View function mapping is overwriting an existing endpoint function: user_page",
     "output_type": "error",
     "traceback": [
      "\u001b[1;31m---------------------------------------------------------------------------\u001b[0m",
      "\u001b[1;31mAssertionError\u001b[0m                            Traceback (most recent call last)",
      "Cell \u001b[1;32mIn[21], line 9\u001b[0m\n\u001b[0;32m      4\u001b[0m \u001b[38;5;129m@app\u001b[39m\u001b[38;5;241m.\u001b[39mroute(\u001b[38;5;124m'\u001b[39m\u001b[38;5;124m/hella\u001b[39m\u001b[38;5;124m'\u001b[39m)\n\u001b[0;32m      5\u001b[0m \n\u001b[0;32m      6\u001b[0m \u001b[38;5;28;01mdef\u001b[39;00m \u001b[38;5;21mhello2\u001b[39m():\n\u001b[0;32m      7\u001b[0m     \u001b[38;5;28;01mreturn\u001b[39;00m \u001b[38;5;124m'\u001b[39m\u001b[38;5;124mHello\u001b[39m\u001b[38;5;124m'\u001b[39m\n\u001b[1;32m----> 9\u001b[0m \u001b[38;5;129m@app\u001b[39m\u001b[38;5;241m.\u001b[39mroute(\u001b[38;5;124m'\u001b[39m\u001b[38;5;124m/user/<name>\u001b[39m\u001b[38;5;124m'\u001b[39m)\n\u001b[0;32m     10\u001b[0m \u001b[38;5;28;01mdef\u001b[39;00m \u001b[38;5;21muser_page\u001b[39m(name):\n\u001b[0;32m     11\u001b[0m     \u001b[38;5;28;01mreturn\u001b[39;00m \u001b[38;5;124mf\u001b[39m\u001b[38;5;124m'\u001b[39m\u001b[38;5;124mUser: \u001b[39m\u001b[38;5;132;01m{\u001b[39;00mescape(name)\u001b[38;5;132;01m}\u001b[39;00m\u001b[38;5;124m'\u001b[39m\n\u001b[0;32m     13\u001b[0m \u001b[38;5;129m@app\u001b[39m\u001b[38;5;241m.\u001b[39mroute(\u001b[38;5;124m'\u001b[39m\u001b[38;5;124m/test\u001b[39m\u001b[38;5;124m'\u001b[39m)\n\u001b[0;32m     14\u001b[0m \u001b[38;5;28;01mdef\u001b[39;00m \u001b[38;5;21mtest_url_for\u001b[39m():\n\u001b[0;32m     15\u001b[0m     \u001b[38;5;66;03m# 下面是一些调用示例（请访问 http://localhost:5000/test 后在命令行窗口查看输出的 URL）：\u001b[39;00m\n",
      "File \u001b[1;32mD:\\anaconda\\Lib\\site-packages\\flask\\sansio\\scaffold.py:364\u001b[0m, in \u001b[0;36mScaffold.route.<locals>.decorator\u001b[1;34m(f)\u001b[0m\n\u001b[0;32m    362\u001b[0m \u001b[38;5;28;01mdef\u001b[39;00m \u001b[38;5;21mdecorator\u001b[39m(f: T_route) \u001b[38;5;241m-\u001b[39m\u001b[38;5;241m>\u001b[39m T_route:\n\u001b[0;32m    363\u001b[0m     endpoint \u001b[38;5;241m=\u001b[39m options\u001b[38;5;241m.\u001b[39mpop(\u001b[38;5;124m\"\u001b[39m\u001b[38;5;124mendpoint\u001b[39m\u001b[38;5;124m\"\u001b[39m, \u001b[38;5;28;01mNone\u001b[39;00m)\n\u001b[1;32m--> 364\u001b[0m     \u001b[38;5;28mself\u001b[39m\u001b[38;5;241m.\u001b[39madd_url_rule(rule, endpoint, f, \u001b[38;5;241m*\u001b[39m\u001b[38;5;241m*\u001b[39moptions)\n\u001b[0;32m    365\u001b[0m     \u001b[38;5;28;01mreturn\u001b[39;00m f\n",
      "File \u001b[1;32mD:\\anaconda\\Lib\\site-packages\\flask\\sansio\\scaffold.py:44\u001b[0m, in \u001b[0;36msetupmethod.<locals>.wrapper_func\u001b[1;34m(self, *args, **kwargs)\u001b[0m\n\u001b[0;32m     42\u001b[0m \u001b[38;5;28;01mdef\u001b[39;00m \u001b[38;5;21mwrapper_func\u001b[39m(\u001b[38;5;28mself\u001b[39m, \u001b[38;5;241m*\u001b[39margs: t\u001b[38;5;241m.\u001b[39mAny, \u001b[38;5;241m*\u001b[39m\u001b[38;5;241m*\u001b[39mkwargs: t\u001b[38;5;241m.\u001b[39mAny) \u001b[38;5;241m-\u001b[39m\u001b[38;5;241m>\u001b[39m t\u001b[38;5;241m.\u001b[39mAny:\n\u001b[0;32m     43\u001b[0m     \u001b[38;5;28mself\u001b[39m\u001b[38;5;241m.\u001b[39m_check_setup_finished(f_name)\n\u001b[1;32m---> 44\u001b[0m     \u001b[38;5;28;01mreturn\u001b[39;00m f(\u001b[38;5;28mself\u001b[39m, \u001b[38;5;241m*\u001b[39margs, \u001b[38;5;241m*\u001b[39m\u001b[38;5;241m*\u001b[39mkwargs)\n",
      "File \u001b[1;32mD:\\anaconda\\Lib\\site-packages\\flask\\sansio\\app.py:659\u001b[0m, in \u001b[0;36mApp.add_url_rule\u001b[1;34m(self, rule, endpoint, view_func, provide_automatic_options, **options)\u001b[0m\n\u001b[0;32m    657\u001b[0m old_func \u001b[38;5;241m=\u001b[39m \u001b[38;5;28mself\u001b[39m\u001b[38;5;241m.\u001b[39mview_functions\u001b[38;5;241m.\u001b[39mget(endpoint)\n\u001b[0;32m    658\u001b[0m \u001b[38;5;28;01mif\u001b[39;00m old_func \u001b[38;5;129;01mis\u001b[39;00m \u001b[38;5;129;01mnot\u001b[39;00m \u001b[38;5;28;01mNone\u001b[39;00m \u001b[38;5;129;01mand\u001b[39;00m old_func \u001b[38;5;241m!=\u001b[39m view_func:\n\u001b[1;32m--> 659\u001b[0m     \u001b[38;5;28;01mraise\u001b[39;00m \u001b[38;5;167;01mAssertionError\u001b[39;00m(\n\u001b[0;32m    660\u001b[0m         \u001b[38;5;124m\"\u001b[39m\u001b[38;5;124mView function mapping is overwriting an existing\u001b[39m\u001b[38;5;124m\"\u001b[39m\n\u001b[0;32m    661\u001b[0m         \u001b[38;5;124mf\u001b[39m\u001b[38;5;124m\"\u001b[39m\u001b[38;5;124m endpoint function: \u001b[39m\u001b[38;5;132;01m{\u001b[39;00mendpoint\u001b[38;5;132;01m}\u001b[39;00m\u001b[38;5;124m\"\u001b[39m\n\u001b[0;32m    662\u001b[0m     )\n\u001b[0;32m    663\u001b[0m \u001b[38;5;28mself\u001b[39m\u001b[38;5;241m.\u001b[39mview_functions[endpoint] \u001b[38;5;241m=\u001b[39m view_func\n",
      "\u001b[1;31mAssertionError\u001b[0m: View function mapping is overwriting an existing endpoint function: user_page"
     ]
    }
   ],
   "source": [
    "from flask import url_for\n",
    "from markupsafe import escape\n",
    "\n",
    "@app.route('/hella')\n",
    "\n",
    "def hello2():\n",
    "    return 'Hello'\n",
    "\n",
    "@app.route('/user/<name>')\n",
    "def user_page(name):\n",
    "    return f'User: {escape(name)}'\n",
    "\n",
    "@app.route('/test')\n",
    "def test_url_for():\n",
    "    # 下面是一些调用示例（请访问 http://localhost:5000/test 后在命令行窗口查看输出的 URL）：\n",
    "    print(url_for('hello'))  # 生成 hello 视图函数对应的 URL，将会输出：/\n",
    "    # 注意下面两个调用是如何生成包含 URL 变量的 URL 的\n",
    "    print(url_for('user_page', name='greyli'))  # 输出：/user/greyli\n",
    "    print(url_for('user_page', name='peter'))  # 输出：/user/peter\n",
    "    print(url_for('test_url_for'))  # 输出：/test\n",
    "    # 下面这个调用传入了多余的关键字参数，它们会被作为查询字符串附加到 URL 后面。\n",
    "    print(url_for('test_url_for', num=2))  # 输出：/test?num=2\n",
    "    return 'Test page'\n",
    "if __name__ == '__main__':\n",
    "    app.run()"
   ]
  },
  {
   "cell_type": "markdown",
   "id": "e7864fbc",
   "metadata": {},
   "source": [
    "# templates 文件"
   ]
  },
  {
   "cell_type": "code",
   "execution_count": null,
   "id": "e9a15162",
   "metadata": {},
   "outputs": [],
   "source": [
    "from flask import Flask, render_template\n",
    "app = Flask(__name__)\n",
    "\n",
    "name = 'Grey Li'\n",
    "movies = [\n",
    "{'title': 'My Neighbor Totoro', 'year': '1988'},\n",
    "{'title': 'Dead Poets Society', 'year': '1989'},\n",
    "{'title': 'A Perfect World', 'year': '1993'},\n",
    "{'title': 'Leon', 'year': '1994'},\n",
    "{'title': 'Mahjong', 'year': '1996'},\n",
    "{'title': 'Swallowtail Butterfly', 'year': '1996'},\n",
    "{'title': 'King of Comedy', 'year': '1999'},\n",
    "{'title': 'Devils on the Doorstep', 'year': '1999'},\n",
    "{'title': 'WALL-E', 'year': '2008'},\n",
    "{'title': 'The Pork of Music', 'year': '2012'},]\n",
    "@app.route('/')\n",
    "def index():\n",
    "    \n",
    "    return render_template('index.html', name=name, movies=movies)"
   ]
  },
  {
   "cell_type": "markdown",
   "id": "516027a4",
   "metadata": {},
   "source": [
    "## static静态文件"
   ]
  },
  {
   "cell_type": "code",
   "execution_count": 4,
   "id": "3199d40e",
   "metadata": {},
   "outputs": [
    {
     "ename": "SyntaxError",
     "evalue": "invalid syntax (1897971736.py, line 1)",
     "output_type": "error",
     "traceback": [
      "\u001b[1;36m  Cell \u001b[1;32mIn[4], line 1\u001b[1;36m\u001b[0m\n\u001b[1;33m    from flask import Flask, render_template, flask-sqlalchemy\u001b[0m\n\u001b[1;37m                                                   ^\u001b[0m\n\u001b[1;31mSyntaxError\u001b[0m\u001b[1;31m:\u001b[0m invalid syntax\n"
     ]
    }
   ],
   "source": [
    "from flask import Flask, render_template, flask-sqlalchemy"
   ]
  },
  {
   "cell_type": "markdown",
   "id": "c0443146",
   "metadata": {},
   "source": [
    "## SQLAlchemy 操作数据库"
   ]
  },
  {
   "cell_type": "code",
   "execution_count": 7,
   "id": "998b41bc",
   "metadata": {},
   "outputs": [],
   "source": [
    "from flask import Flask, render_template\n",
    "from flask_sqlalchemy import SQLAlchemy # 导入扩展类\n",
    "import os\n",
    "import sys\n",
    "WIN = sys.platform.startswith('win')\n",
    "if WIN: # 如果是 Windows 系统，使用三个斜线\n",
    "    prefix = 'sqlite:///'\n",
    "else: # 否则使用四个斜线\n",
    "    prefix = 'sqlite:////'\n",
    "app = Flask(__name__)\n",
    "app.config['SQLALCHEMY_DATABASE_URI'] = prefix + os.path.join(app.root_path, 'data.db')\n",
    "app.config['SQLALCHEMY_TRACK_MODIFICATIONS'] = False # 关闭对模型\n",
    "\n",
    "\n",
    "db = SQLAlchemy(app) # 初始化扩展，传入程序实例 app\n",
    "\n",
    "class User(db.Model): # 表名将会是 user（自动生成，小写处理）\n",
    "    id = db.Column(db.Integer, primary_key=True) # 主键\n",
    "    name = db.Column(db.String(20)) # 名字\n",
    "class Movie(db.Model): # 表名将会是 movie\n",
    "    id = db.Column(db.Integer, primary_key=True) # 主键\n",
    "    title = db.Column(db.String(60)) # 电影标题\n",
    "    year = db.Column(db.String(4)) # 电影年份\n",
    "\n",
    "name = 'Grace Zhang'\n",
    "movies = [\n",
    "{'title': 'My Neighbor Totoro', 'year': '1988'},\n",
    "{'title': 'Dead Poets Society', 'year': '1989'},\n",
    "{'title': 'A Perfect World', 'year': '1993'},\n",
    "{'title': 'Leon', 'year': '1994'},\n",
    "{'title': 'Mahjong', 'year': '1996'},\n",
    "{'title': 'Swallowtail Butterfly', 'year': '1996'},\n",
    "{'title': 'King of Comedy', 'year': '1999'},\n",
    "{'title': 'Devils on the Doorstep', 'year': '1999'},\n",
    "{'title': 'WALL-E', 'year': '2008'},\n",
    "{'title': 'The Pork of Music', 'year': '2012'},]\n",
    "@app.route('/')\n",
    "def index():\n",
    "    \n",
    "    return render_template('index.html', name=name, movies=movies)"
   ]
  },
  {
   "cell_type": "code",
   "execution_count": 9,
   "id": "05e82296",
   "metadata": {},
   "outputs": [],
   "source": [
    "from flask import Flask, render_template\n",
    "from flask_sqlalchemy import SQLAlchemy # 导入扩展类\n",
    "import os\n",
    "import sys\n",
    "import click\n",
    "WIN = sys.platform.startswith('win')\n",
    "if WIN: # 如果是 Windows 系统，使用三个斜线\n",
    "    prefix = 'sqlite:///'\n",
    "else: # 否则使用四个斜线\n",
    "    prefix = 'sqlite:////'\n",
    "app = Flask(__name__)\n",
    "app.config['SQLALCHEMY_DATABASE_URI'] = prefix + os.path.join(app.root_path, 'data.db')\n",
    "app.config['SQLALCHEMY_TRACK_MODIFICATIONS'] = False # 关闭对模型\n",
    "\n",
    "\n",
    "db = SQLAlchemy(app) # 初始化扩展，传入程序实例 app\n",
    "\n",
    "class User(db.Model): # 表名将会是 user（自动生成，小写处理）\n",
    "    id = db.Column(db.Integer, primary_key=True) # 主键\n",
    "    name = db.Column(db.String(20)) # 名字\n",
    "class Movie(db.Model): # 表名将会是 movie\n",
    "    id = db.Column(db.Integer, primary_key=True) # 主键\n",
    "    title = db.Column(db.String(60)) # 电影标题\n",
    "    year = db.Column(db.String(4)) # 电影年份\n",
    "\n",
    "name = 'Grace Zhang'\n",
    "movies = [\n",
    "{'title': 'My Neighbor Totoro', 'year': '1988'},\n",
    "{'title': 'Dead Poets Society', 'year': '1989'},\n",
    "{'title': 'A Perfect World', 'year': '1993'},\n",
    "{'title': 'Leon', 'year': '1994'},\n",
    "{'title': 'Mahjong', 'year': '1996'},\n",
    "{'title': 'Swallowtail Butterfly', 'year': '1996'},\n",
    "{'title': 'King of Comedy', 'year': '1999'},\n",
    "{'title': 'Devils on the Doorstep', 'year': '1999'},\n",
    "{'title': 'WALL-E', 'year': '2008'},\n",
    "{'title': 'The Pork of Music', 'year': '2012'},]\n",
    "@app.route('/')\n",
    "def index():\n",
    "    \n",
    "    return render_template('index.html', name=name, movies=movies)\n",
    "\n",
    "@app.context_processor\n",
    "\n",
    "@app.cli.command() # 注册为命令\n",
    "# @click.option('--drop', is_flag=True, help='Create after drop.')\n",
    "# # 设置选项\n",
    "# def initdb(drop):\n",
    "#     \"\"\"Initialize the database.\"\"\"\n",
    "#     if drop: # 判断是否输入了选项\n",
    "#         db.drop_all()\n",
    "#     db.create_all()\n",
    "#     click.echo('Initialized database.') # 输出提示信息\n",
    "\n",
    "def inject_user(): # 函数名可以随意修改\n",
    "    user = User.query.first()\n",
    "    return dict(user=user) # 需要返回字典，等同于return {'user': user}\n",
    "\n",
    "\n",
    "\n",
    "\n",
    "@app.errorhandler(404) # 传入要处理的错误代码\n",
    "\n",
    "def page_not_found(e): # 接受异常对象作为参数\n",
    "    user = User.query.first()\n",
    "    return render_template('404.html', user=user), 404 # 返回模板和状态码"
   ]
  },
  {
   "cell_type": "code",
   "execution_count": null,
   "id": "37721b29",
   "metadata": {},
   "outputs": [],
   "source": []
  },
  {
   "cell_type": "code",
   "execution_count": null,
   "id": "9e557877",
   "metadata": {},
   "outputs": [],
   "source": []
  },
  {
   "cell_type": "code",
   "execution_count": 14,
   "id": "b09024b6",
   "metadata": {
    "scrolled": true
   },
   "outputs": [],
   "source": [
    "from flask_sqlalchemy import SQLAlchemy # 导入扩展类\n",
    "app = Flask(__name__)\n",
    "app.config[\"SQLALCHEMY_DATABASE_URI\"] = \"sqlite:///test.db\"\n",
    "db = SQLAlchemy(app) # 初始化扩展，传入程序实例 app"
   ]
  },
  {
   "cell_type": "code",
   "execution_count": 17,
   "id": "e473e50a",
   "metadata": {},
   "outputs": [],
   "source": [
    "import os\n",
    "app.config['SQLALCHEMY_DATABASE_URI'] = 'sqlite:////' + os.path.join(app.root_path, 'data.db')"
   ]
  },
  {
   "cell_type": "code",
   "execution_count": 7,
   "id": "3a5b69ab",
   "metadata": {},
   "outputs": [],
   "source": [
    "from flask import Flask, render_template\n",
    "import os\n",
    "from flask_sqlalchemy import SQLAlchemy # 导入扩展类\n",
    "app = Flask(__name__)\n",
    "\n",
    "\n",
    "\n",
    "app.config['SQLALCHEMY_DATABASE_URI'] = 'sqlite:////'+ os.path.join(app.root_path, 'data.db')\n",
    "db = SQLAlchemy(app) "
   ]
  },
  {
   "cell_type": "code",
   "execution_count": 14,
   "id": "0cf82f79",
   "metadata": {},
   "outputs": [
    {
     "name": "stdout",
     "output_type": "stream",
     "text": [
      " * Serving Flask app '__main__'\n",
      " * Debug mode: off\n"
     ]
    },
    {
     "name": "stderr",
     "output_type": "stream",
     "text": [
      "WARNING: This is a development server. Do not use it in a production deployment. Use a production WSGI server instead.\n",
      " * Running on http://127.0.0.1:5000\n",
      "Press CTRL+C to quit\n"
     ]
    }
   ],
   "source": [
    "import os\n",
    "import sys\n",
    "from flask import Flask\n",
    "from flask_sqlalchemy import SQLAlchemy\n",
    "import click\n",
    "WIN = sys.platform.startswith('win')\n",
    "if WIN: # 如果是 Windows 系统，使用三个斜线\n",
    "    prefix = 'sqlite:///'\n",
    "else: # 否则使用四个斜线\n",
    "    prefix = 'sqlite:////'\n",
    "app = Flask(__name__)\n",
    "app.config['SQLALCHEMY_DATABASE_URI'] = prefix + os.path.join(app.root_path, 'data.db')\n",
    "app.config['SQLALCHEMY_TRACK_MODIFICATIONS'] = False # 关闭对模型修改的监控\n",
    "# 在扩展类实例化前加载配置\n",
    "db = SQLAlchemy(app)\n",
    "\n",
    "\n",
    "@app.cli.command()  # 注册为命令，可以传入 name 参数来自定义命令\n",
    "@click.option('--drop', is_flag=True, help='Create after drop.')  # 设置选项\n",
    "def initdb(drop):\n",
    "    \"\"\"Initialize the database.\"\"\"\n",
    "    if drop:  # 判断是否输入了选项\n",
    "        db.drop_all()\n",
    "    db.create_all()\n",
    "    click.echo('Initialized database.')  # 输出提示信息\n",
    "@app.route('/')\n",
    "def index():\n",
    "    return render_template('index.html', name=name, movies=movies)\n",
    "\n",
    "if __name__ == '__main__':\n",
    "    app.run()"
   ]
  },
  {
   "cell_type": "code",
   "execution_count": 15,
   "id": "f44de3d0",
   "metadata": {},
   "outputs": [
    {
     "name": "stdout",
     "output_type": "stream",
     "text": [
      " * Serving Flask app '__main__'\n",
      " * Debug mode: on\n"
     ]
    },
    {
     "name": "stderr",
     "output_type": "stream",
     "text": [
      "WARNING: This is a development server. Do not use it in a production deployment. Use a production WSGI server instead.\n",
      " * Running on http://127.0.0.1:5000\n",
      "Press CTRL+C to quit\n",
      " * Restarting with watchdog (windowsapi)\n"
     ]
    },
    {
     "ename": "SystemExit",
     "evalue": "1",
     "output_type": "error",
     "traceback": [
      "An exception has occurred, use %tb to see the full traceback.\n",
      "\u001b[1;31mSystemExit\u001b[0m\u001b[1;31m:\u001b[0m 1\n"
     ]
    },
    {
     "name": "stderr",
     "output_type": "stream",
     "text": [
      "D:\\anaconda\\Lib\\site-packages\\IPython\\core\\interactiveshell.py:3513: UserWarning: To exit: use 'exit', 'quit', or Ctrl-D.\n",
      "  warn(\"To exit: use 'exit', 'quit', or Ctrl-D.\", stacklevel=1)\n"
     ]
    }
   ],
   "source": [
    "from flask import Flask, render_template\n",
    "from flask_sqlalchemy import SQLAlchemy\n",
    "\n",
    "WIN = sys.platform.startswith('win')\n",
    "if WIN:\n",
    "    prefix = 'sqlite:///'\n",
    "else:\n",
    "    prefix = 'sqlite:////'\n",
    "\n",
    "app = Flask(__name__)\n",
    "app.config['SQLALCHEMY_DATABASE_URI'] = prefix + os.path.join(app.root_path, 'data.db')\n",
    "app.config['SQLALCHEMY_TRACK_MODIFICATIONS'] = False\n",
    "db = SQLAlchemy(app)\n",
    "\n",
    "class User(db.Model):\n",
    "    id = db.Column(db.Integer, primary_key=True)\n",
    "    name = db.Column(db.String(20))\n",
    "\n",
    "class Movie(db.Model):\n",
    "    id = db.Column(db.Integer, primary_key=True)\n",
    "    title = db.Column(db.String(60))\n",
    "    year = db.Column(db.String(4))\n",
    "\n",
    "# This route will display user and movie information\n",
    "@app.route('/')\n",
    "def index():\n",
    "    # Query all users and movies from the database\n",
    "    users = User.query.all()\n",
    "    movies = Movie.query.all()\n",
    "    \n",
    "    # Pass the data to the template for rendering\n",
    "    return render_template('index.html', users=users, movies=movies)\n",
    "\n",
    "if __name__ == '__main__':\n",
    "    # Ensure that the database tables are created before running the app\n",
    "    with app.app_context():\n",
    "        db.create_all()\n",
    "    app.run(debug=True)\n"
   ]
  },
  {
   "cell_type": "code",
   "execution_count": 8,
   "id": "168d4ca3",
   "metadata": {},
   "outputs": [
    {
     "name": "stderr",
     "output_type": "stream",
     "text": [
      "D:\\anaconda\\Lib\\site-packages\\flask_sqlalchemy\\model.py:144: SAWarning: This declarative base already contains a class with the same class name and module name as __main__.User, and will be replaced in the string-lookup table.\n",
      "  super().__init__(name, bases, d, **kwargs)\n"
     ]
    },
    {
     "ename": "InvalidRequestError",
     "evalue": "Table 'user' is already defined for this MetaData instance.  Specify 'extend_existing=True' to redefine options and columns on an existing Table object.",
     "output_type": "error",
     "traceback": [
      "\u001b[1;31m---------------------------------------------------------------------------\u001b[0m",
      "\u001b[1;31mInvalidRequestError\u001b[0m                       Traceback (most recent call last)",
      "Cell \u001b[1;32mIn[8], line 1\u001b[0m\n\u001b[1;32m----> 1\u001b[0m \u001b[38;5;28;01mclass\u001b[39;00m \u001b[38;5;21;01mUser\u001b[39;00m(db\u001b[38;5;241m.\u001b[39mModel): \u001b[38;5;66;03m# 表名将会是 user（自动生成，小写处理）\u001b[39;00m\n\u001b[0;32m      2\u001b[0m     \u001b[38;5;28mid\u001b[39m \u001b[38;5;241m=\u001b[39m db\u001b[38;5;241m.\u001b[39mColumn(db\u001b[38;5;241m.\u001b[39mInteger, primary_key\u001b[38;5;241m=\u001b[39m\u001b[38;5;28;01mTrue\u001b[39;00m) \u001b[38;5;66;03m# 主键\u001b[39;00m\n\u001b[0;32m      3\u001b[0m     name \u001b[38;5;241m=\u001b[39m db\u001b[38;5;241m.\u001b[39mColumn(db\u001b[38;5;241m.\u001b[39mString(\u001b[38;5;241m20\u001b[39m)) \u001b[38;5;66;03m# 名字\u001b[39;00m\n",
      "File \u001b[1;32mD:\\anaconda\\Lib\\site-packages\\flask_sqlalchemy\\model.py:92\u001b[0m, in \u001b[0;36mBindMetaMixin.__init__\u001b[1;34m(cls, name, bases, d, **kwargs)\u001b[0m\n\u001b[0;32m     89\u001b[0m     \u001b[38;5;28;01mif\u001b[39;00m metadata \u001b[38;5;129;01mis\u001b[39;00m \u001b[38;5;129;01mnot\u001b[39;00m parent_metadata:\n\u001b[0;32m     90\u001b[0m         \u001b[38;5;28mcls\u001b[39m\u001b[38;5;241m.\u001b[39mmetadata \u001b[38;5;241m=\u001b[39m metadata\n\u001b[1;32m---> 92\u001b[0m \u001b[38;5;28msuper\u001b[39m()\u001b[38;5;241m.\u001b[39m\u001b[38;5;21m__init__\u001b[39m(name, bases, d, \u001b[38;5;241m*\u001b[39m\u001b[38;5;241m*\u001b[39mkwargs)\n",
      "File \u001b[1;32mD:\\anaconda\\Lib\\site-packages\\flask_sqlalchemy\\model.py:144\u001b[0m, in \u001b[0;36mNameMetaMixin.__init__\u001b[1;34m(cls, name, bases, d, **kwargs)\u001b[0m\n\u001b[0;32m    141\u001b[0m \u001b[38;5;28;01mif\u001b[39;00m should_set_tablename(\u001b[38;5;28mcls\u001b[39m):\n\u001b[0;32m    142\u001b[0m     \u001b[38;5;28mcls\u001b[39m\u001b[38;5;241m.\u001b[39m__tablename__ \u001b[38;5;241m=\u001b[39m camel_to_snake_case(\u001b[38;5;28mcls\u001b[39m\u001b[38;5;241m.\u001b[39m\u001b[38;5;18m__name__\u001b[39m)\n\u001b[1;32m--> 144\u001b[0m \u001b[38;5;28msuper\u001b[39m()\u001b[38;5;241m.\u001b[39m\u001b[38;5;21m__init__\u001b[39m(name, bases, d, \u001b[38;5;241m*\u001b[39m\u001b[38;5;241m*\u001b[39mkwargs)\n\u001b[0;32m    146\u001b[0m \u001b[38;5;66;03m# __table_cls__ has run. If no table was created, use the parent table.\u001b[39;00m\n\u001b[0;32m    147\u001b[0m \u001b[38;5;28;01mif\u001b[39;00m (\n\u001b[0;32m    148\u001b[0m     \u001b[38;5;124m\"\u001b[39m\u001b[38;5;124m__tablename__\u001b[39m\u001b[38;5;124m\"\u001b[39m \u001b[38;5;129;01mnot\u001b[39;00m \u001b[38;5;129;01min\u001b[39;00m \u001b[38;5;28mcls\u001b[39m\u001b[38;5;241m.\u001b[39m\u001b[38;5;18m__dict__\u001b[39m\n\u001b[0;32m    149\u001b[0m     \u001b[38;5;129;01mand\u001b[39;00m \u001b[38;5;124m\"\u001b[39m\u001b[38;5;124m__table__\u001b[39m\u001b[38;5;124m\"\u001b[39m \u001b[38;5;129;01min\u001b[39;00m \u001b[38;5;28mcls\u001b[39m\u001b[38;5;241m.\u001b[39m\u001b[38;5;18m__dict__\u001b[39m\n\u001b[0;32m    150\u001b[0m     \u001b[38;5;129;01mand\u001b[39;00m \u001b[38;5;28mcls\u001b[39m\u001b[38;5;241m.\u001b[39m\u001b[38;5;18m__dict__\u001b[39m[\u001b[38;5;124m\"\u001b[39m\u001b[38;5;124m__table__\u001b[39m\u001b[38;5;124m\"\u001b[39m] \u001b[38;5;129;01mis\u001b[39;00m \u001b[38;5;28;01mNone\u001b[39;00m\n\u001b[0;32m    151\u001b[0m ):\n",
      "File \u001b[1;32mD:\\anaconda\\Lib\\site-packages\\sqlalchemy\\orm\\decl_api.py:195\u001b[0m, in \u001b[0;36mDeclarativeMeta.__init__\u001b[1;34m(cls, classname, bases, dict_, **kw)\u001b[0m\n\u001b[0;32m    192\u001b[0m         \u001b[38;5;28mcls\u001b[39m\u001b[38;5;241m.\u001b[39m_sa_registry \u001b[38;5;241m=\u001b[39m reg\n\u001b[0;32m    194\u001b[0m \u001b[38;5;28;01mif\u001b[39;00m \u001b[38;5;129;01mnot\u001b[39;00m \u001b[38;5;28mcls\u001b[39m\u001b[38;5;241m.\u001b[39m\u001b[38;5;18m__dict__\u001b[39m\u001b[38;5;241m.\u001b[39mget(\u001b[38;5;124m\"\u001b[39m\u001b[38;5;124m__abstract__\u001b[39m\u001b[38;5;124m\"\u001b[39m, \u001b[38;5;28;01mFalse\u001b[39;00m):\n\u001b[1;32m--> 195\u001b[0m     _as_declarative(reg, \u001b[38;5;28mcls\u001b[39m, dict_)\n\u001b[0;32m    196\u001b[0m \u001b[38;5;28mtype\u001b[39m\u001b[38;5;241m.\u001b[39m\u001b[38;5;21m__init__\u001b[39m(\u001b[38;5;28mcls\u001b[39m, classname, bases, dict_)\n",
      "File \u001b[1;32mD:\\anaconda\\Lib\\site-packages\\sqlalchemy\\orm\\decl_base.py:247\u001b[0m, in \u001b[0;36m_as_declarative\u001b[1;34m(registry, cls, dict_)\u001b[0m\n\u001b[0;32m    242\u001b[0m \u001b[38;5;28;01mdef\u001b[39;00m \u001b[38;5;21m_as_declarative\u001b[39m(\n\u001b[0;32m    243\u001b[0m     registry: _RegistryType, \u001b[38;5;28mcls\u001b[39m: Type[Any], dict_: _ClassDict\n\u001b[0;32m    244\u001b[0m ) \u001b[38;5;241m-\u001b[39m\u001b[38;5;241m>\u001b[39m Optional[_MapperConfig]:\n\u001b[0;32m    245\u001b[0m     \u001b[38;5;66;03m# declarative scans the class for attributes.  no table or mapper\u001b[39;00m\n\u001b[0;32m    246\u001b[0m     \u001b[38;5;66;03m# args passed separately.\u001b[39;00m\n\u001b[1;32m--> 247\u001b[0m     \u001b[38;5;28;01mreturn\u001b[39;00m _MapperConfig\u001b[38;5;241m.\u001b[39msetup_mapping(registry, \u001b[38;5;28mcls\u001b[39m, dict_, \u001b[38;5;28;01mNone\u001b[39;00m, {})\n",
      "File \u001b[1;32mD:\\anaconda\\Lib\\site-packages\\sqlalchemy\\orm\\decl_base.py:328\u001b[0m, in \u001b[0;36m_MapperConfig.setup_mapping\u001b[1;34m(cls, registry, cls_, dict_, table, mapper_kw)\u001b[0m\n\u001b[0;32m    324\u001b[0m     \u001b[38;5;28;01mreturn\u001b[39;00m _DeferredMapperConfig(\n\u001b[0;32m    325\u001b[0m         registry, cls_, dict_, table, mapper_kw\n\u001b[0;32m    326\u001b[0m     )\n\u001b[0;32m    327\u001b[0m \u001b[38;5;28;01melse\u001b[39;00m:\n\u001b[1;32m--> 328\u001b[0m     \u001b[38;5;28;01mreturn\u001b[39;00m _ClassScanMapperConfig(\n\u001b[0;32m    329\u001b[0m         registry, cls_, dict_, table, mapper_kw\n\u001b[0;32m    330\u001b[0m     )\n",
      "File \u001b[1;32mD:\\anaconda\\Lib\\site-packages\\sqlalchemy\\orm\\decl_base.py:578\u001b[0m, in \u001b[0;36m_ClassScanMapperConfig.__init__\u001b[1;34m(self, registry, cls_, dict_, table, mapper_kw)\u001b[0m\n\u001b[0;32m    574\u001b[0m \u001b[38;5;28mself\u001b[39m\u001b[38;5;241m.\u001b[39m_extract_mappable_attributes()\n\u001b[0;32m    576\u001b[0m \u001b[38;5;28mself\u001b[39m\u001b[38;5;241m.\u001b[39m_extract_declared_columns()\n\u001b[1;32m--> 578\u001b[0m \u001b[38;5;28mself\u001b[39m\u001b[38;5;241m.\u001b[39m_setup_table(table)\n\u001b[0;32m    580\u001b[0m \u001b[38;5;28mself\u001b[39m\u001b[38;5;241m.\u001b[39m_setup_inheriting_columns(mapper_kw)\n\u001b[0;32m    582\u001b[0m \u001b[38;5;28mself\u001b[39m\u001b[38;5;241m.\u001b[39m_early_mapping(mapper_kw)\n",
      "File \u001b[1;32mD:\\anaconda\\Lib\\site-packages\\sqlalchemy\\orm\\decl_base.py:1729\u001b[0m, in \u001b[0;36m_ClassScanMapperConfig._setup_table\u001b[1;34m(self, table)\u001b[0m\n\u001b[0;32m   1721\u001b[0m             table_kw[\u001b[38;5;124m\"\u001b[39m\u001b[38;5;124mautoload\u001b[39m\u001b[38;5;124m\"\u001b[39m] \u001b[38;5;241m=\u001b[39m \u001b[38;5;28;01mTrue\u001b[39;00m\n\u001b[0;32m   1723\u001b[0m         sorted_columns \u001b[38;5;241m=\u001b[39m \u001b[38;5;28msorted\u001b[39m(\n\u001b[0;32m   1724\u001b[0m             declared_columns,\n\u001b[0;32m   1725\u001b[0m             key\u001b[38;5;241m=\u001b[39m\u001b[38;5;28;01mlambda\u001b[39;00m c: column_ordering\u001b[38;5;241m.\u001b[39mget(c, \u001b[38;5;241m0\u001b[39m),\n\u001b[0;32m   1726\u001b[0m         )\n\u001b[0;32m   1727\u001b[0m         table \u001b[38;5;241m=\u001b[39m \u001b[38;5;28mself\u001b[39m\u001b[38;5;241m.\u001b[39mset_cls_attribute(\n\u001b[0;32m   1728\u001b[0m             \u001b[38;5;124m\"\u001b[39m\u001b[38;5;124m__table__\u001b[39m\u001b[38;5;124m\"\u001b[39m,\n\u001b[1;32m-> 1729\u001b[0m             table_cls(\n\u001b[0;32m   1730\u001b[0m                 tablename,\n\u001b[0;32m   1731\u001b[0m                 \u001b[38;5;28mself\u001b[39m\u001b[38;5;241m.\u001b[39m_metadata_for_cls(manager),\n\u001b[0;32m   1732\u001b[0m                 \u001b[38;5;241m*\u001b[39msorted_columns,\n\u001b[0;32m   1733\u001b[0m                 \u001b[38;5;241m*\u001b[39margs,\n\u001b[0;32m   1734\u001b[0m                 \u001b[38;5;241m*\u001b[39m\u001b[38;5;241m*\u001b[39mtable_kw,\n\u001b[0;32m   1735\u001b[0m             ),\n\u001b[0;32m   1736\u001b[0m         )\n\u001b[0;32m   1737\u001b[0m \u001b[38;5;28;01melse\u001b[39;00m:\n\u001b[0;32m   1738\u001b[0m     \u001b[38;5;28;01mif\u001b[39;00m table \u001b[38;5;129;01mis\u001b[39;00m \u001b[38;5;28;01mNone\u001b[39;00m:\n",
      "File \u001b[1;32mD:\\anaconda\\Lib\\site-packages\\flask_sqlalchemy\\model.py:171\u001b[0m, in \u001b[0;36mNameMetaMixin.__table_cls__\u001b[1;34m(cls, *args, **kwargs)\u001b[0m\n\u001b[0;32m    168\u001b[0m \u001b[38;5;66;03m# Check if a table with this name already exists. Allows reflected tables to be\u001b[39;00m\n\u001b[0;32m    169\u001b[0m \u001b[38;5;66;03m# applied to models by name.\u001b[39;00m\n\u001b[0;32m    170\u001b[0m \u001b[38;5;28;01mif\u001b[39;00m key \u001b[38;5;129;01min\u001b[39;00m \u001b[38;5;28mcls\u001b[39m\u001b[38;5;241m.\u001b[39mmetadata\u001b[38;5;241m.\u001b[39mtables:\n\u001b[1;32m--> 171\u001b[0m     \u001b[38;5;28;01mreturn\u001b[39;00m sa\u001b[38;5;241m.\u001b[39mTable(\u001b[38;5;241m*\u001b[39margs, \u001b[38;5;241m*\u001b[39m\u001b[38;5;241m*\u001b[39mkwargs)\n\u001b[0;32m    173\u001b[0m \u001b[38;5;66;03m# If a primary key is found, create a table for joined-table inheritance.\u001b[39;00m\n\u001b[0;32m    174\u001b[0m \u001b[38;5;28;01mfor\u001b[39;00m arg \u001b[38;5;129;01min\u001b[39;00m args:\n",
      "File \u001b[1;32m<string>:2\u001b[0m, in \u001b[0;36m__new__\u001b[1;34m(cls, *args, **kw)\u001b[0m\n",
      "File \u001b[1;32mD:\\anaconda\\Lib\\site-packages\\sqlalchemy\\util\\deprecations.py:281\u001b[0m, in \u001b[0;36mdeprecated_params.<locals>.decorate.<locals>.warned\u001b[1;34m(fn, *args, **kwargs)\u001b[0m\n\u001b[0;32m    274\u001b[0m     \u001b[38;5;28;01mif\u001b[39;00m m \u001b[38;5;129;01min\u001b[39;00m kwargs:\n\u001b[0;32m    275\u001b[0m         _warn_with_version(\n\u001b[0;32m    276\u001b[0m             messages[m],\n\u001b[0;32m    277\u001b[0m             versions[m],\n\u001b[0;32m    278\u001b[0m             version_warnings[m],\n\u001b[0;32m    279\u001b[0m             stacklevel\u001b[38;5;241m=\u001b[39m\u001b[38;5;241m3\u001b[39m,\n\u001b[0;32m    280\u001b[0m         )\n\u001b[1;32m--> 281\u001b[0m \u001b[38;5;28;01mreturn\u001b[39;00m fn(\u001b[38;5;241m*\u001b[39margs, \u001b[38;5;241m*\u001b[39m\u001b[38;5;241m*\u001b[39mkwargs)\n",
      "File \u001b[1;32mD:\\anaconda\\Lib\\site-packages\\sqlalchemy\\sql\\schema.py:436\u001b[0m, in \u001b[0;36mTable.__new__\u001b[1;34m(cls, *args, **kw)\u001b[0m\n\u001b[0;32m    429\u001b[0m \u001b[38;5;129m@util\u001b[39m\u001b[38;5;241m.\u001b[39mdeprecated_params(\n\u001b[0;32m    430\u001b[0m     mustexist\u001b[38;5;241m=\u001b[39m(\n\u001b[0;32m    431\u001b[0m         \u001b[38;5;124m\"\u001b[39m\u001b[38;5;124m1.4\u001b[39m\u001b[38;5;124m\"\u001b[39m,\n\u001b[1;32m   (...)\u001b[0m\n\u001b[0;32m    434\u001b[0m )\n\u001b[0;32m    435\u001b[0m \u001b[38;5;28;01mdef\u001b[39;00m \u001b[38;5;21m__new__\u001b[39m(\u001b[38;5;28mcls\u001b[39m, \u001b[38;5;241m*\u001b[39margs: Any, \u001b[38;5;241m*\u001b[39m\u001b[38;5;241m*\u001b[39mkw: Any) \u001b[38;5;241m-\u001b[39m\u001b[38;5;241m>\u001b[39m Any:\n\u001b[1;32m--> 436\u001b[0m     \u001b[38;5;28;01mreturn\u001b[39;00m \u001b[38;5;28mcls\u001b[39m\u001b[38;5;241m.\u001b[39m_new(\u001b[38;5;241m*\u001b[39margs, \u001b[38;5;241m*\u001b[39m\u001b[38;5;241m*\u001b[39mkw)\n",
      "File \u001b[1;32mD:\\anaconda\\Lib\\site-packages\\sqlalchemy\\sql\\schema.py:468\u001b[0m, in \u001b[0;36mTable._new\u001b[1;34m(cls, *args, **kw)\u001b[0m\n\u001b[0;32m    466\u001b[0m \u001b[38;5;28;01mif\u001b[39;00m key \u001b[38;5;129;01min\u001b[39;00m metadata\u001b[38;5;241m.\u001b[39mtables:\n\u001b[0;32m    467\u001b[0m     \u001b[38;5;28;01mif\u001b[39;00m \u001b[38;5;129;01mnot\u001b[39;00m keep_existing \u001b[38;5;129;01mand\u001b[39;00m \u001b[38;5;129;01mnot\u001b[39;00m extend_existing \u001b[38;5;129;01mand\u001b[39;00m \u001b[38;5;28mbool\u001b[39m(args):\n\u001b[1;32m--> 468\u001b[0m         \u001b[38;5;28;01mraise\u001b[39;00m exc\u001b[38;5;241m.\u001b[39mInvalidRequestError(\n\u001b[0;32m    469\u001b[0m             \u001b[38;5;124m\"\u001b[39m\u001b[38;5;124mTable \u001b[39m\u001b[38;5;124m'\u001b[39m\u001b[38;5;132;01m%s\u001b[39;00m\u001b[38;5;124m'\u001b[39m\u001b[38;5;124m is already defined for this MetaData \u001b[39m\u001b[38;5;124m\"\u001b[39m\n\u001b[0;32m    470\u001b[0m             \u001b[38;5;124m\"\u001b[39m\u001b[38;5;124minstance.  Specify \u001b[39m\u001b[38;5;124m'\u001b[39m\u001b[38;5;124mextend_existing=True\u001b[39m\u001b[38;5;124m'\u001b[39m\u001b[38;5;124m \u001b[39m\u001b[38;5;124m\"\u001b[39m\n\u001b[0;32m    471\u001b[0m             \u001b[38;5;124m\"\u001b[39m\u001b[38;5;124mto redefine \u001b[39m\u001b[38;5;124m\"\u001b[39m\n\u001b[0;32m    472\u001b[0m             \u001b[38;5;124m\"\u001b[39m\u001b[38;5;124moptions and columns on an \u001b[39m\u001b[38;5;124m\"\u001b[39m\n\u001b[0;32m    473\u001b[0m             \u001b[38;5;124m\"\u001b[39m\u001b[38;5;124mexisting Table object.\u001b[39m\u001b[38;5;124m\"\u001b[39m \u001b[38;5;241m%\u001b[39m key\n\u001b[0;32m    474\u001b[0m         )\n\u001b[0;32m    475\u001b[0m     table \u001b[38;5;241m=\u001b[39m metadata\u001b[38;5;241m.\u001b[39mtables[key]\n\u001b[0;32m    476\u001b[0m     \u001b[38;5;28;01mif\u001b[39;00m extend_existing:\n",
      "\u001b[1;31mInvalidRequestError\u001b[0m: Table 'user' is already defined for this MetaData instance.  Specify 'extend_existing=True' to redefine options and columns on an existing Table object."
     ]
    }
   ],
   "source": [
    "class User(db.Model): # 表名将会是 user（自动生成，小写处理）\n",
    "    id = db.Column(db.Integer, primary_key=True) # 主键\n",
    "    name = db.Column(db.String(20)) # 名字\n",
    "class Movie(db.Model): # 表名将会是 movie\n",
    "    id = db.Column(db.Integer, primary_key=True) # 主键\n",
    "    title = db.Column(db.String(60)) # 电影标题\n",
    "    year = db.Column(db.String(4)) # 电影年份\n"
   ]
  },
  {
   "cell_type": "code",
   "execution_count": 9,
   "id": "af6324b8",
   "metadata": {},
   "outputs": [
    {
     "name": "stdout",
     "output_type": "stream",
     "text": [
      " * Serving Flask app '__main__'\n",
      " * Debug mode: off\n"
     ]
    },
    {
     "name": "stderr",
     "output_type": "stream",
     "text": [
      "WARNING: This is a development server. Do not use it in a production deployment. Use a production WSGI server instead.\n",
      " * Running on http://127.0.0.1:5000\n",
      "Press CTRL+C to quit\n"
     ]
    }
   ],
   "source": [
    "app = Flask(__name__)\n",
    "\n",
    "\n",
    "\n",
    "@app.route('/')\n",
    "def index():\n",
    "    return render_template('index.html', name=name, movies=movies)\n",
    "\n",
    "if __name__ == '__main__':\n",
    "    app.run()"
   ]
  },
  {
   "cell_type": "code",
   "execution_count": 10,
   "id": "31af8e03",
   "metadata": {},
   "outputs": [],
   "source": [
    "db = SQLAlchemy() # db intitialized here\n",
    "app = Flask(__name__)\n",
    "app.config[\"SQLALCHEMY_DATABASE_URI\"] = \"sqlite:///test.db\"\n",
    "db.init_app(app)"
   ]
  },
  {
   "cell_type": "code",
   "execution_count": 1,
   "id": "6a875ea0",
   "metadata": {},
   "outputs": [],
   "source": [
    "import click"
   ]
  },
  {
   "cell_type": "code",
   "execution_count": 5,
   "id": "98f99ad1",
   "metadata": {},
   "outputs": [],
   "source": [
    "from flask import Flask, render_template\n",
    "from flask_sqlalchemy import SQLAlchemy # 导入扩展类\n",
    "import os\n",
    "import sys\n",
    "import click\n",
    "WIN = sys.platform.startswith('win')\n",
    "if WIN: # 如果是 Windows 系统，使用三个斜线\n",
    "    prefix = 'sqlite:///'\n",
    "else: # 否则使用四个斜线\n",
    "    prefix = 'sqlite:////'\n",
    "app = Flask(__name__)\n",
    "app.config['SQLALCHEMY_DATABASE_URI'] = prefix + os.path.join(app.root_path, 'data.db')\n",
    "app.config['SQLALCHEMY_TRACK_MODIFICATIONS'] = False # 关闭对模型\n",
    "\n",
    "\n",
    "db = SQLAlchemy(app) # 初始化扩展，传入程序实例 app\n",
    "\n",
    "class User(db.Model): # 表名将会是 user（自动生成，小写处理）\n",
    "    id = db.Column(db.Integer, primary_key=True) # 主键\n",
    "    name = db.Column(db.String(20)) # 名字\n",
    "class Movie(db.Model): # 表名将会是 movie\n",
    "    id = db.Column(db.Integer, primary_key=True) # 主键\n",
    "    title = db.Column(db.String(60)) # 电影标题\n",
    "    year = db.Column(db.String(4)) # 电影年份\n",
    "\n",
    "name = 'Grace Zhang'\n",
    "movies = [\n",
    "{'title': 'My Neighbor Totoro', 'year': '1988'},\n",
    "{'title': 'Dead Poets Society', 'year': '1989'},\n",
    "{'title': 'A Perfect World', 'year': '1993'},\n",
    "{'title': 'Leon', 'year': '1994'},\n",
    "{'title': 'Mahjong', 'year': '1996'},\n",
    "{'title': 'Swallowtail Butterfly', 'year': '1996'},\n",
    "{'title': 'King of Comedy', 'year': '1999'},\n",
    "{'title': 'Devils on the Doorstep', 'year': '1999'},\n",
    "{'title': 'WALL-E', 'year': '2008'},\n",
    "{'title': 'The Pork of Music', 'year': '2012'},]\n",
    "@app.route('/')\n",
    "def index():\n",
    "    # user = User.query.first() # 读取用户记录\n",
    "    # movies = Movie.query.all() # 读取所有电影记录\n",
    "    return render_template('index.html', name=name, movies=movies)\n",
    "\n",
    "\n",
    "\n",
    "def inject_user(): # 函数名可以随意修改\n",
    "    user = User.query.first()\n",
    "    return dict(user=user) # 需要返回字典，等同于return {'user': user}\n",
    "\n",
    "\n",
    "@app.errorhandler(404) # 传入要处理的错误代码\n",
    "def page_not_found(e): # 接受异常对象作为参数\n",
    "    user = User.query.first()\n",
    "    return render_template('404.html', user=user), 404 # 返回模板和状态码\n",
    "\n",
    "# @app.context_processor\n",
    "# @app.cli.command() # 注册为命令\n",
    "# @click.option('--drop', is_flag=True, help='Create after drop.')\n",
    "# 设置选项\n",
    "# def initdb(drop):\n",
    "#     \"\"\"Initialize the database.\"\"\"\n",
    "#     if drop: # 判断是否输入了选项\n",
    "#         db.drop_all()\n",
    "#     db.create_all()\n",
    "#     click.echo('Initialized database.') # 输出提示信息"
   ]
  },
  {
   "cell_type": "code",
   "execution_count": 6,
   "id": "42d47ea9",
   "metadata": {},
   "outputs": [
    {
     "ename": "RuntimeError",
     "evalue": "Working outside of application context.\n\nThis typically means that you attempted to use functionality that needed\nthe current application. To solve this, set up an application context\nwith app.app_context(). See the documentation for more information.",
     "output_type": "error",
     "traceback": [
      "\u001b[1;31m---------------------------------------------------------------------------\u001b[0m",
      "\u001b[1;31mRuntimeError\u001b[0m                              Traceback (most recent call last)",
      "Cell \u001b[1;32mIn[6], line 1\u001b[0m\n\u001b[1;32m----> 1\u001b[0m movie \u001b[38;5;241m=\u001b[39m Movie\u001b[38;5;241m.\u001b[39mquery\u001b[38;5;241m.\u001b[39mfirst()\n",
      "File \u001b[1;32mD:\\anaconda\\Lib\\site-packages\\flask_sqlalchemy\\model.py:23\u001b[0m, in \u001b[0;36m_QueryProperty.__get__\u001b[1;34m(self, obj, cls)\u001b[0m\n\u001b[0;32m     21\u001b[0m \u001b[38;5;28;01mdef\u001b[39;00m \u001b[38;5;21m__get__\u001b[39m(\u001b[38;5;28mself\u001b[39m, obj: Model \u001b[38;5;241m|\u001b[39m \u001b[38;5;28;01mNone\u001b[39;00m, \u001b[38;5;28mcls\u001b[39m: \u001b[38;5;28mtype\u001b[39m[Model]) \u001b[38;5;241m-\u001b[39m\u001b[38;5;241m>\u001b[39m Query:\n\u001b[0;32m     22\u001b[0m     \u001b[38;5;28;01mreturn\u001b[39;00m \u001b[38;5;28mcls\u001b[39m\u001b[38;5;241m.\u001b[39mquery_class(\n\u001b[1;32m---> 23\u001b[0m         \u001b[38;5;28mcls\u001b[39m, session\u001b[38;5;241m=\u001b[39m\u001b[38;5;28mcls\u001b[39m\u001b[38;5;241m.\u001b[39m__fsa__\u001b[38;5;241m.\u001b[39msession()  \u001b[38;5;66;03m# type: ignore[arg-type]\u001b[39;00m\n\u001b[0;32m     24\u001b[0m     )\n",
      "File \u001b[1;32mD:\\anaconda\\Lib\\site-packages\\sqlalchemy\\orm\\scoping.py:221\u001b[0m, in \u001b[0;36mscoped_session.__call__\u001b[1;34m(self, **kw)\u001b[0m\n\u001b[0;32m    219\u001b[0m         \u001b[38;5;28mself\u001b[39m\u001b[38;5;241m.\u001b[39mregistry\u001b[38;5;241m.\u001b[39mset(sess)\n\u001b[0;32m    220\u001b[0m \u001b[38;5;28;01melse\u001b[39;00m:\n\u001b[1;32m--> 221\u001b[0m     sess \u001b[38;5;241m=\u001b[39m \u001b[38;5;28mself\u001b[39m\u001b[38;5;241m.\u001b[39mregistry()\n\u001b[0;32m    222\u001b[0m \u001b[38;5;28;01mif\u001b[39;00m \u001b[38;5;129;01mnot\u001b[39;00m \u001b[38;5;28mself\u001b[39m\u001b[38;5;241m.\u001b[39m_support_async \u001b[38;5;129;01mand\u001b[39;00m sess\u001b[38;5;241m.\u001b[39m_is_asyncio:\n\u001b[0;32m    223\u001b[0m     warn_deprecated(\n\u001b[0;32m    224\u001b[0m         \u001b[38;5;124m\"\u001b[39m\u001b[38;5;124mUsing `scoped_session` with asyncio is deprecated and \u001b[39m\u001b[38;5;124m\"\u001b[39m\n\u001b[0;32m    225\u001b[0m         \u001b[38;5;124m\"\u001b[39m\u001b[38;5;124mwill raise an error in a future version. \u001b[39m\u001b[38;5;124m\"\u001b[39m\n\u001b[0;32m    226\u001b[0m         \u001b[38;5;124m\"\u001b[39m\u001b[38;5;124mPlease use `async_scoped_session` instead.\u001b[39m\u001b[38;5;124m\"\u001b[39m,\n\u001b[0;32m    227\u001b[0m         \u001b[38;5;124m\"\u001b[39m\u001b[38;5;124m1.4.23\u001b[39m\u001b[38;5;124m\"\u001b[39m,\n\u001b[0;32m    228\u001b[0m     )\n",
      "File \u001b[1;32mD:\\anaconda\\Lib\\site-packages\\sqlalchemy\\util\\_collections.py:640\u001b[0m, in \u001b[0;36mScopedRegistry.__call__\u001b[1;34m(self)\u001b[0m\n\u001b[0;32m    639\u001b[0m \u001b[38;5;28;01mdef\u001b[39;00m \u001b[38;5;21m__call__\u001b[39m(\u001b[38;5;28mself\u001b[39m) \u001b[38;5;241m-\u001b[39m\u001b[38;5;241m>\u001b[39m _T:\n\u001b[1;32m--> 640\u001b[0m     key \u001b[38;5;241m=\u001b[39m \u001b[38;5;28mself\u001b[39m\u001b[38;5;241m.\u001b[39mscopefunc()\n\u001b[0;32m    641\u001b[0m     \u001b[38;5;28;01mtry\u001b[39;00m:\n\u001b[0;32m    642\u001b[0m         \u001b[38;5;28;01mreturn\u001b[39;00m \u001b[38;5;28mself\u001b[39m\u001b[38;5;241m.\u001b[39mregistry[key]  \u001b[38;5;66;03m# type: ignore[no-any-return]\u001b[39;00m\n",
      "File \u001b[1;32mD:\\anaconda\\Lib\\site-packages\\flask_sqlalchemy\\session.py:111\u001b[0m, in \u001b[0;36m_app_ctx_id\u001b[1;34m()\u001b[0m\n\u001b[0;32m    109\u001b[0m \u001b[38;5;28;01mdef\u001b[39;00m \u001b[38;5;21m_app_ctx_id\u001b[39m() \u001b[38;5;241m-\u001b[39m\u001b[38;5;241m>\u001b[39m \u001b[38;5;28mint\u001b[39m:\n\u001b[0;32m    110\u001b[0m \u001b[38;5;250m    \u001b[39m\u001b[38;5;124;03m\"\"\"Get the id of the current Flask application context for the session scope.\"\"\"\u001b[39;00m\n\u001b[1;32m--> 111\u001b[0m     \u001b[38;5;28;01mreturn\u001b[39;00m \u001b[38;5;28mid\u001b[39m(app_ctx\u001b[38;5;241m.\u001b[39m_get_current_object())\n",
      "File \u001b[1;32mD:\\anaconda\\Lib\\site-packages\\werkzeug\\local.py:508\u001b[0m, in \u001b[0;36mLocalProxy.__init__.<locals>._get_current_object\u001b[1;34m()\u001b[0m\n\u001b[0;32m    506\u001b[0m     obj \u001b[38;5;241m=\u001b[39m local\u001b[38;5;241m.\u001b[39mget()\n\u001b[0;32m    507\u001b[0m \u001b[38;5;28;01mexcept\u001b[39;00m \u001b[38;5;167;01mLookupError\u001b[39;00m:\n\u001b[1;32m--> 508\u001b[0m     \u001b[38;5;28;01mraise\u001b[39;00m \u001b[38;5;167;01mRuntimeError\u001b[39;00m(unbound_message) \u001b[38;5;28;01mfrom\u001b[39;00m \u001b[38;5;28;01mNone\u001b[39;00m\n\u001b[0;32m    510\u001b[0m \u001b[38;5;28;01mreturn\u001b[39;00m get_name(obj)\n",
      "\u001b[1;31mRuntimeError\u001b[0m: Working outside of application context.\n\nThis typically means that you attempted to use functionality that needed\nthe current application. To solve this, set up an application context\nwith app.app_context(). See the documentation for more information."
     ]
    }
   ],
   "source": [
    "movie = Movie.query.first()"
   ]
  },
  {
   "cell_type": "code",
   "execution_count": 7,
   "id": "c983d211",
   "metadata": {},
   "outputs": [
    {
     "ename": "NameError",
     "evalue": "name 'user' is not defined",
     "output_type": "error",
     "traceback": [
      "\u001b[1;31m---------------------------------------------------------------------------\u001b[0m",
      "\u001b[1;31mNameError\u001b[0m                                 Traceback (most recent call last)",
      "Cell \u001b[1;32mIn[7], line 1\u001b[0m\n\u001b[1;32m----> 1\u001b[0m user\u001b[38;5;241m.\u001b[39mname\n",
      "\u001b[1;31mNameError\u001b[0m: name 'user' is not defined"
     ]
    }
   ],
   "source": [
    "user.name"
   ]
  },
  {
   "cell_type": "code",
   "execution_count": 11,
   "id": "95edfbe0",
   "metadata": {},
   "outputs": [],
   "source": [
    "from app import User, Movie"
   ]
  },
  {
   "cell_type": "code",
   "execution_count": 12,
   "id": "7243b053",
   "metadata": {},
   "outputs": [],
   "source": [
    "user = User(name='Grey Li')"
   ]
  },
  {
   "cell_type": "code",
   "execution_count": 13,
   "id": "40838107",
   "metadata": {},
   "outputs": [],
   "source": [
    "m1 = Movie(title='Leon', year='1994')"
   ]
  },
  {
   "cell_type": "code",
   "execution_count": 14,
   "id": "e12b5409",
   "metadata": {},
   "outputs": [],
   "source": [
    "m2 = Movie(title='Mahjong', year='1996')"
   ]
  },
  {
   "cell_type": "code",
   "execution_count": 15,
   "id": "4f03a56e",
   "metadata": {},
   "outputs": [
    {
     "ename": "RuntimeError",
     "evalue": "Working outside of application context.\n\nThis typically means that you attempted to use functionality that needed\nthe current application. To solve this, set up an application context\nwith app.app_context(). See the documentation for more information.",
     "output_type": "error",
     "traceback": [
      "\u001b[1;31m---------------------------------------------------------------------------\u001b[0m",
      "\u001b[1;31mRuntimeError\u001b[0m                              Traceback (most recent call last)",
      "Cell \u001b[1;32mIn[15], line 1\u001b[0m\n\u001b[1;32m----> 1\u001b[0m db\u001b[38;5;241m.\u001b[39msession\u001b[38;5;241m.\u001b[39madd(user)\n",
      "File \u001b[1;32mD:\\anaconda\\Lib\\site-packages\\sqlalchemy\\orm\\scoping.py:379\u001b[0m, in \u001b[0;36mscoped_session.add\u001b[1;34m(self, instance, _warn)\u001b[0m\n\u001b[0;32m    347\u001b[0m \u001b[38;5;28;01mdef\u001b[39;00m \u001b[38;5;21madd\u001b[39m(\u001b[38;5;28mself\u001b[39m, instance: \u001b[38;5;28mobject\u001b[39m, _warn: \u001b[38;5;28mbool\u001b[39m \u001b[38;5;241m=\u001b[39m \u001b[38;5;28;01mTrue\u001b[39;00m) \u001b[38;5;241m-\u001b[39m\u001b[38;5;241m>\u001b[39m \u001b[38;5;28;01mNone\u001b[39;00m:\n\u001b[0;32m    348\u001b[0m \u001b[38;5;250m    \u001b[39m\u001b[38;5;124mr\u001b[39m\u001b[38;5;124;03m\"\"\"Place an object into this :class:`_orm.Session`.\u001b[39;00m\n\u001b[0;32m    349\u001b[0m \n\u001b[0;32m    350\u001b[0m \u001b[38;5;124;03m    .. container:: class_bases\u001b[39;00m\n\u001b[1;32m   (...)\u001b[0m\n\u001b[0;32m    376\u001b[0m \n\u001b[0;32m    377\u001b[0m \u001b[38;5;124;03m    \"\"\"\u001b[39;00m  \u001b[38;5;66;03m# noqa: E501\u001b[39;00m\n\u001b[1;32m--> 379\u001b[0m     \u001b[38;5;28;01mreturn\u001b[39;00m \u001b[38;5;28mself\u001b[39m\u001b[38;5;241m.\u001b[39m_proxied\u001b[38;5;241m.\u001b[39madd(instance, _warn\u001b[38;5;241m=\u001b[39m_warn)\n",
      "File \u001b[1;32mD:\\anaconda\\Lib\\site-packages\\sqlalchemy\\orm\\scoping.py:198\u001b[0m, in \u001b[0;36mscoped_session._proxied\u001b[1;34m(self)\u001b[0m\n\u001b[0;32m    196\u001b[0m \u001b[38;5;129m@property\u001b[39m\n\u001b[0;32m    197\u001b[0m \u001b[38;5;28;01mdef\u001b[39;00m \u001b[38;5;21m_proxied\u001b[39m(\u001b[38;5;28mself\u001b[39m) \u001b[38;5;241m-\u001b[39m\u001b[38;5;241m>\u001b[39m _S:\n\u001b[1;32m--> 198\u001b[0m     \u001b[38;5;28;01mreturn\u001b[39;00m \u001b[38;5;28mself\u001b[39m\u001b[38;5;241m.\u001b[39mregistry()\n",
      "File \u001b[1;32mD:\\anaconda\\Lib\\site-packages\\sqlalchemy\\util\\_collections.py:640\u001b[0m, in \u001b[0;36mScopedRegistry.__call__\u001b[1;34m(self)\u001b[0m\n\u001b[0;32m    639\u001b[0m \u001b[38;5;28;01mdef\u001b[39;00m \u001b[38;5;21m__call__\u001b[39m(\u001b[38;5;28mself\u001b[39m) \u001b[38;5;241m-\u001b[39m\u001b[38;5;241m>\u001b[39m _T:\n\u001b[1;32m--> 640\u001b[0m     key \u001b[38;5;241m=\u001b[39m \u001b[38;5;28mself\u001b[39m\u001b[38;5;241m.\u001b[39mscopefunc()\n\u001b[0;32m    641\u001b[0m     \u001b[38;5;28;01mtry\u001b[39;00m:\n\u001b[0;32m    642\u001b[0m         \u001b[38;5;28;01mreturn\u001b[39;00m \u001b[38;5;28mself\u001b[39m\u001b[38;5;241m.\u001b[39mregistry[key]  \u001b[38;5;66;03m# type: ignore[no-any-return]\u001b[39;00m\n",
      "File \u001b[1;32mD:\\anaconda\\Lib\\site-packages\\flask_sqlalchemy\\session.py:111\u001b[0m, in \u001b[0;36m_app_ctx_id\u001b[1;34m()\u001b[0m\n\u001b[0;32m    109\u001b[0m \u001b[38;5;28;01mdef\u001b[39;00m \u001b[38;5;21m_app_ctx_id\u001b[39m() \u001b[38;5;241m-\u001b[39m\u001b[38;5;241m>\u001b[39m \u001b[38;5;28mint\u001b[39m:\n\u001b[0;32m    110\u001b[0m \u001b[38;5;250m    \u001b[39m\u001b[38;5;124;03m\"\"\"Get the id of the current Flask application context for the session scope.\"\"\"\u001b[39;00m\n\u001b[1;32m--> 111\u001b[0m     \u001b[38;5;28;01mreturn\u001b[39;00m \u001b[38;5;28mid\u001b[39m(app_ctx\u001b[38;5;241m.\u001b[39m_get_current_object())\n",
      "File \u001b[1;32mD:\\anaconda\\Lib\\site-packages\\werkzeug\\local.py:508\u001b[0m, in \u001b[0;36mLocalProxy.__init__.<locals>._get_current_object\u001b[1;34m()\u001b[0m\n\u001b[0;32m    506\u001b[0m     obj \u001b[38;5;241m=\u001b[39m local\u001b[38;5;241m.\u001b[39mget()\n\u001b[0;32m    507\u001b[0m \u001b[38;5;28;01mexcept\u001b[39;00m \u001b[38;5;167;01mLookupError\u001b[39;00m:\n\u001b[1;32m--> 508\u001b[0m     \u001b[38;5;28;01mraise\u001b[39;00m \u001b[38;5;167;01mRuntimeError\u001b[39;00m(unbound_message) \u001b[38;5;28;01mfrom\u001b[39;00m \u001b[38;5;28;01mNone\u001b[39;00m\n\u001b[0;32m    510\u001b[0m \u001b[38;5;28;01mreturn\u001b[39;00m get_name(obj)\n",
      "\u001b[1;31mRuntimeError\u001b[0m: Working outside of application context.\n\nThis typically means that you attempted to use functionality that needed\nthe current application. To solve this, set up an application context\nwith app.app_context(). See the documentation for more information."
     ]
    }
   ],
   "source": [
    "db.session.add(user)"
   ]
  },
  {
   "cell_type": "code",
   "execution_count": null,
   "id": "2e83ca33",
   "metadata": {},
   "outputs": [],
   "source": []
  }
 ],
 "metadata": {
  "kernelspec": {
   "display_name": "Python 3 (ipykernel)",
   "language": "python",
   "name": "python3"
  },
  "language_info": {
   "codemirror_mode": {
    "name": "ipython",
    "version": 3
   },
   "file_extension": ".py",
   "mimetype": "text/x-python",
   "name": "python",
   "nbconvert_exporter": "python",
   "pygments_lexer": "ipython3",
   "version": "3.11.3"
  }
 },
 "nbformat": 4,
 "nbformat_minor": 5
}
