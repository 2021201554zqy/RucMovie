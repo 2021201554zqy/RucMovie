{
 "cells": [
  {
   "cell_type": "code",
   "execution_count": 21,
   "id": "a8fbffe4",
   "metadata": {},
   "outputs": [
    {
     "ename": "AssertionError",
     "evalue": "View function mapping is overwriting an existing endpoint function: user_page",
     "output_type": "error",
     "traceback": [
      "\u001b[1;31m---------------------------------------------------------------------------\u001b[0m",
      "\u001b[1;31mAssertionError\u001b[0m                            Traceback (most recent call last)",
      "Cell \u001b[1;32mIn[21], line 9\u001b[0m\n\u001b[0;32m      4\u001b[0m \u001b[38;5;129m@app\u001b[39m\u001b[38;5;241m.\u001b[39mroute(\u001b[38;5;124m'\u001b[39m\u001b[38;5;124m/hella\u001b[39m\u001b[38;5;124m'\u001b[39m)\n\u001b[0;32m      5\u001b[0m \n\u001b[0;32m      6\u001b[0m \u001b[38;5;28;01mdef\u001b[39;00m \u001b[38;5;21mhello2\u001b[39m():\n\u001b[0;32m      7\u001b[0m     \u001b[38;5;28;01mreturn\u001b[39;00m \u001b[38;5;124m'\u001b[39m\u001b[38;5;124mHello\u001b[39m\u001b[38;5;124m'\u001b[39m\n\u001b[1;32m----> 9\u001b[0m \u001b[38;5;129m@app\u001b[39m\u001b[38;5;241m.\u001b[39mroute(\u001b[38;5;124m'\u001b[39m\u001b[38;5;124m/user/<name>\u001b[39m\u001b[38;5;124m'\u001b[39m)\n\u001b[0;32m     10\u001b[0m \u001b[38;5;28;01mdef\u001b[39;00m \u001b[38;5;21muser_page\u001b[39m(name):\n\u001b[0;32m     11\u001b[0m     \u001b[38;5;28;01mreturn\u001b[39;00m \u001b[38;5;124mf\u001b[39m\u001b[38;5;124m'\u001b[39m\u001b[38;5;124mUser: \u001b[39m\u001b[38;5;132;01m{\u001b[39;00mescape(name)\u001b[38;5;132;01m}\u001b[39;00m\u001b[38;5;124m'\u001b[39m\n\u001b[0;32m     13\u001b[0m \u001b[38;5;129m@app\u001b[39m\u001b[38;5;241m.\u001b[39mroute(\u001b[38;5;124m'\u001b[39m\u001b[38;5;124m/test\u001b[39m\u001b[38;5;124m'\u001b[39m)\n\u001b[0;32m     14\u001b[0m \u001b[38;5;28;01mdef\u001b[39;00m \u001b[38;5;21mtest_url_for\u001b[39m():\n\u001b[0;32m     15\u001b[0m     \u001b[38;5;66;03m# 下面是一些调用示例（请访问 http://localhost:5000/test 后在命令行窗口查看输出的 URL）：\u001b[39;00m\n",
      "File \u001b[1;32mD:\\anaconda\\Lib\\site-packages\\flask\\sansio\\scaffold.py:364\u001b[0m, in \u001b[0;36mScaffold.route.<locals>.decorator\u001b[1;34m(f)\u001b[0m\n\u001b[0;32m    362\u001b[0m \u001b[38;5;28;01mdef\u001b[39;00m \u001b[38;5;21mdecorator\u001b[39m(f: T_route) \u001b[38;5;241m-\u001b[39m\u001b[38;5;241m>\u001b[39m T_route:\n\u001b[0;32m    363\u001b[0m     endpoint \u001b[38;5;241m=\u001b[39m options\u001b[38;5;241m.\u001b[39mpop(\u001b[38;5;124m\"\u001b[39m\u001b[38;5;124mendpoint\u001b[39m\u001b[38;5;124m\"\u001b[39m, \u001b[38;5;28;01mNone\u001b[39;00m)\n\u001b[1;32m--> 364\u001b[0m     \u001b[38;5;28mself\u001b[39m\u001b[38;5;241m.\u001b[39madd_url_rule(rule, endpoint, f, \u001b[38;5;241m*\u001b[39m\u001b[38;5;241m*\u001b[39moptions)\n\u001b[0;32m    365\u001b[0m     \u001b[38;5;28;01mreturn\u001b[39;00m f\n",
      "File \u001b[1;32mD:\\anaconda\\Lib\\site-packages\\flask\\sansio\\scaffold.py:44\u001b[0m, in \u001b[0;36msetupmethod.<locals>.wrapper_func\u001b[1;34m(self, *args, **kwargs)\u001b[0m\n\u001b[0;32m     42\u001b[0m \u001b[38;5;28;01mdef\u001b[39;00m \u001b[38;5;21mwrapper_func\u001b[39m(\u001b[38;5;28mself\u001b[39m, \u001b[38;5;241m*\u001b[39margs: t\u001b[38;5;241m.\u001b[39mAny, \u001b[38;5;241m*\u001b[39m\u001b[38;5;241m*\u001b[39mkwargs: t\u001b[38;5;241m.\u001b[39mAny) \u001b[38;5;241m-\u001b[39m\u001b[38;5;241m>\u001b[39m t\u001b[38;5;241m.\u001b[39mAny:\n\u001b[0;32m     43\u001b[0m     \u001b[38;5;28mself\u001b[39m\u001b[38;5;241m.\u001b[39m_check_setup_finished(f_name)\n\u001b[1;32m---> 44\u001b[0m     \u001b[38;5;28;01mreturn\u001b[39;00m f(\u001b[38;5;28mself\u001b[39m, \u001b[38;5;241m*\u001b[39margs, \u001b[38;5;241m*\u001b[39m\u001b[38;5;241m*\u001b[39mkwargs)\n",
      "File \u001b[1;32mD:\\anaconda\\Lib\\site-packages\\flask\\sansio\\app.py:659\u001b[0m, in \u001b[0;36mApp.add_url_rule\u001b[1;34m(self, rule, endpoint, view_func, provide_automatic_options, **options)\u001b[0m\n\u001b[0;32m    657\u001b[0m old_func \u001b[38;5;241m=\u001b[39m \u001b[38;5;28mself\u001b[39m\u001b[38;5;241m.\u001b[39mview_functions\u001b[38;5;241m.\u001b[39mget(endpoint)\n\u001b[0;32m    658\u001b[0m \u001b[38;5;28;01mif\u001b[39;00m old_func \u001b[38;5;129;01mis\u001b[39;00m \u001b[38;5;129;01mnot\u001b[39;00m \u001b[38;5;28;01mNone\u001b[39;00m \u001b[38;5;129;01mand\u001b[39;00m old_func \u001b[38;5;241m!=\u001b[39m view_func:\n\u001b[1;32m--> 659\u001b[0m     \u001b[38;5;28;01mraise\u001b[39;00m \u001b[38;5;167;01mAssertionError\u001b[39;00m(\n\u001b[0;32m    660\u001b[0m         \u001b[38;5;124m\"\u001b[39m\u001b[38;5;124mView function mapping is overwriting an existing\u001b[39m\u001b[38;5;124m\"\u001b[39m\n\u001b[0;32m    661\u001b[0m         \u001b[38;5;124mf\u001b[39m\u001b[38;5;124m\"\u001b[39m\u001b[38;5;124m endpoint function: \u001b[39m\u001b[38;5;132;01m{\u001b[39;00mendpoint\u001b[38;5;132;01m}\u001b[39;00m\u001b[38;5;124m\"\u001b[39m\n\u001b[0;32m    662\u001b[0m     )\n\u001b[0;32m    663\u001b[0m \u001b[38;5;28mself\u001b[39m\u001b[38;5;241m.\u001b[39mview_functions[endpoint] \u001b[38;5;241m=\u001b[39m view_func\n",
      "\u001b[1;31mAssertionError\u001b[0m: View function mapping is overwriting an existing endpoint function: user_page"
     ]
    }
   ],
   "source": [
    "from flask import url_for\n",
    "from markupsafe import escape\n",
    "\n",
    "@app.route('/hella')\n",
    "\n",
    "def hello2():\n",
    "    return 'Hello'\n",
    "\n",
    "@app.route('/user/<name>')\n",
    "def user_page(name):\n",
    "    return f'User: {escape(name)}'\n",
    "\n",
    "@app.route('/test')\n",
    "def test_url_for():\n",
    "    # 下面是一些调用示例（请访问 http://localhost:5000/test 后在命令行窗口查看输出的 URL）：\n",
    "    print(url_for('hello'))  # 生成 hello 视图函数对应的 URL，将会输出：/\n",
    "    # 注意下面两个调用是如何生成包含 URL 变量的 URL 的\n",
    "    print(url_for('user_page', name='greyli'))  # 输出：/user/greyli\n",
    "    print(url_for('user_page', name='peter'))  # 输出：/user/peter\n",
    "    print(url_for('test_url_for'))  # 输出：/test\n",
    "    # 下面这个调用传入了多余的关键字参数，它们会被作为查询字符串附加到 URL 后面。\n",
    "    print(url_for('test_url_for', num=2))  # 输出：/test?num=2\n",
    "    return 'Test page'\n",
    "if __name__ == '__main__':\n",
    "    app.run()"
   ]
  },
  {
   "cell_type": "markdown",
   "id": "e7864fbc",
   "metadata": {},
   "source": [
    "# templates 文件"
   ]
  },
  {
   "cell_type": "code",
   "execution_count": null,
   "id": "e9a15162",
   "metadata": {},
   "outputs": [],
   "source": [
    "from flask import Flask, render_template\n",
    "app = Flask(__name__)\n",
    "\n",
    "name = 'Grey Li'\n",
    "movies = [\n",
    "{'title': 'My Neighbor Totoro', 'year': '1988'},\n",
    "{'title': 'Dead Poets Society', 'year': '1989'},\n",
    "{'title': 'A Perfect World', 'year': '1993'},\n",
    "{'title': 'Leon', 'year': '1994'},\n",
    "{'title': 'Mahjong', 'year': '1996'},\n",
    "{'title': 'Swallowtail Butterfly', 'year': '1996'},\n",
    "{'title': 'King of Comedy', 'year': '1999'},\n",
    "{'title': 'Devils on the Doorstep', 'year': '1999'},\n",
    "{'title': 'WALL-E', 'year': '2008'},\n",
    "{'title': 'The Pork of Music', 'year': '2012'},]\n",
    "@app.route('/')\n",
    "def index():\n",
    "    \n",
    "    return render_template('index.html', name=name, movies=movies)"
   ]
  },
  {
   "cell_type": "markdown",
   "id": "516027a4",
   "metadata": {},
   "source": [
    "## static静态文件"
   ]
  },
  {
   "cell_type": "code",
   "execution_count": 4,
   "id": "3199d40e",
   "metadata": {},
   "outputs": [
    {
     "ename": "SyntaxError",
     "evalue": "invalid syntax (1897971736.py, line 1)",
     "output_type": "error",
     "traceback": [
      "\u001b[1;36m  Cell \u001b[1;32mIn[4], line 1\u001b[1;36m\u001b[0m\n\u001b[1;33m    from flask import Flask, render_template, flask-sqlalchemy\u001b[0m\n\u001b[1;37m                                                   ^\u001b[0m\n\u001b[1;31mSyntaxError\u001b[0m\u001b[1;31m:\u001b[0m invalid syntax\n"
     ]
    }
   ],
   "source": [
    "from flask import Flask, render_template, flask-sqlalchemy"
   ]
  },
  {
   "cell_type": "markdown",
   "id": "c0443146",
   "metadata": {},
   "source": [
    "## SQLAlchemy 操作数据库"
   ]
  },
  {
   "cell_type": "code",
   "execution_count": 7,
   "id": "998b41bc",
   "metadata": {},
   "outputs": [],
   "source": [
    "from flask import Flask, render_template\n",
    "from flask_sqlalchemy import SQLAlchemy # 导入扩展类\n",
    "import os\n",
    "import sys\n",
    "WIN = sys.platform.startswith('win')\n",
    "if WIN: # 如果是 Windows 系统，使用三个斜线\n",
    "    prefix = 'sqlite:///'\n",
    "else: # 否则使用四个斜线\n",
    "    prefix = 'sqlite:////'\n",
    "app = Flask(__name__)\n",
    "app.config['SQLALCHEMY_DATABASE_URI'] = prefix + os.path.join(app.root_path, 'data.db')\n",
    "app.config['SQLALCHEMY_TRACK_MODIFICATIONS'] = False # 关闭对模型\n",
    "\n",
    "\n",
    "db = SQLAlchemy(app) # 初始化扩展，传入程序实例 app\n",
    "\n",
    "class User(db.Model): # 表名将会是 user（自动生成，小写处理）\n",
    "    id = db.Column(db.Integer, primary_key=True) # 主键\n",
    "    name = db.Column(db.String(20)) # 名字\n",
    "class Movie(db.Model): # 表名将会是 movie\n",
    "    id = db.Column(db.Integer, primary_key=True) # 主键\n",
    "    title = db.Column(db.String(60)) # 电影标题\n",
    "    year = db.Column(db.String(4)) # 电影年份\n",
    "\n",
    "name = 'Grace Zhang'\n",
    "movies = [\n",
    "{'title': 'My Neighbor Totoro', 'year': '1988'},\n",
    "{'title': 'Dead Poets Society', 'year': '1989'},\n",
    "{'title': 'A Perfect World', 'year': '1993'},\n",
    "{'title': 'Leon', 'year': '1994'},\n",
    "{'title': 'Mahjong', 'year': '1996'},\n",
    "{'title': 'Swallowtail Butterfly', 'year': '1996'},\n",
    "{'title': 'King of Comedy', 'year': '1999'},\n",
    "{'title': 'Devils on the Doorstep', 'year': '1999'},\n",
    "{'title': 'WALL-E', 'year': '2008'},\n",
    "{'title': 'The Pork of Music', 'year': '2012'},]\n",
    "@app.route('/')\n",
    "def index():\n",
    "    \n",
    "    return render_template('index.html', name=name, movies=movies)"
   ]
  },
  {
   "cell_type": "code",
   "execution_count": 9,
   "id": "05e82296",
   "metadata": {},
   "outputs": [],
   "source": [
    "from flask import Flask, render_template\n",
    "from flask_sqlalchemy import SQLAlchemy # 导入扩展类\n",
    "import os\n",
    "import sys\n",
    "import click\n",
    "WIN = sys.platform.startswith('win')\n",
    "if WIN: # 如果是 Windows 系统，使用三个斜线\n",
    "    prefix = 'sqlite:///'\n",
    "else: # 否则使用四个斜线\n",
    "    prefix = 'sqlite:////'\n",
    "app = Flask(__name__)\n",
    "app.config['SQLALCHEMY_DATABASE_URI'] = prefix + os.path.join(app.root_path, 'data.db')\n",
    "app.config['SQLALCHEMY_TRACK_MODIFICATIONS'] = False # 关闭对模型\n",
    "\n",
    "\n",
    "db = SQLAlchemy(app) # 初始化扩展，传入程序实例 app\n",
    "\n",
    "class User(db.Model): # 表名将会是 user（自动生成，小写处理）\n",
    "    id = db.Column(db.Integer, primary_key=True) # 主键\n",
    "    name = db.Column(db.String(20)) # 名字\n",
    "class Movie(db.Model): # 表名将会是 movie\n",
    "    id = db.Column(db.Integer, primary_key=True) # 主键\n",
    "    title = db.Column(db.String(60)) # 电影标题\n",
    "    year = db.Column(db.String(4)) # 电影年份\n",
    "\n",
    "name = 'Grace Zhang'\n",
    "movies = [\n",
    "{'title': 'My Neighbor Totoro', 'year': '1988'},\n",
    "{'title': 'Dead Poets Society', 'year': '1989'},\n",
    "{'title': 'A Perfect World', 'year': '1993'},\n",
    "{'title': 'Leon', 'year': '1994'},\n",
    "{'title': 'Mahjong', 'year': '1996'},\n",
    "{'title': 'Swallowtail Butterfly', 'year': '1996'},\n",
    "{'title': 'King of Comedy', 'year': '1999'},\n",
    "{'title': 'Devils on the Doorstep', 'year': '1999'},\n",
    "{'title': 'WALL-E', 'year': '2008'},\n",
    "{'title': 'The Pork of Music', 'year': '2012'},]\n",
    "@app.route('/')\n",
    "def index():\n",
    "    \n",
    "    return render_template('index.html', name=name, movies=movies)\n",
    "\n",
    "@app.context_processor\n",
    "\n",
    "@app.cli.command() # 注册为命令\n",
    "# @click.option('--drop', is_flag=True, help='Create after drop.')\n",
    "# # 设置选项\n",
    "# def initdb(drop):\n",
    "#     \"\"\"Initialize the database.\"\"\"\n",
    "#     if drop: # 判断是否输入了选项\n",
    "#         db.drop_all()\n",
    "#     db.create_all()\n",
    "#     click.echo('Initialized database.') # 输出提示信息\n",
    "\n",
    "def inject_user(): # 函数名可以随意修改\n",
    "    user = User.query.first()\n",
    "    return dict(user=user) # 需要返回字典，等同于return {'user': user}\n",
    "\n",
    "\n",
    "\n",
    "\n",
    "@app.errorhandler(404) # 传入要处理的错误代码\n",
    "\n",
    "def page_not_found(e): # 接受异常对象作为参数\n",
    "    user = User.query.first()\n",
    "    return render_template('404.html', user=user), 404 # 返回模板和状态码"
   ]
  },
  {
   "cell_type": "code",
   "execution_count": null,
   "id": "37721b29",
   "metadata": {},
   "outputs": [],
   "source": []
  },
  {
   "cell_type": "code",
   "execution_count": null,
   "id": "9e557877",
   "metadata": {},
   "outputs": [],
   "source": []
  },
  {
   "cell_type": "code",
   "execution_count": 14,
   "id": "b09024b6",
   "metadata": {
    "scrolled": true
   },
   "outputs": [],
   "source": [
    "from flask_sqlalchemy import SQLAlchemy # 导入扩展类\n",
    "app = Flask(__name__)\n",
    "app.config[\"SQLALCHEMY_DATABASE_URI\"] = \"sqlite:///test.db\"\n",
    "db = SQLAlchemy(app) # 初始化扩展，传入程序实例 app"
   ]
  },
  {
   "cell_type": "code",
   "execution_count": 17,
   "id": "e473e50a",
   "metadata": {},
   "outputs": [],
   "source": [
    "import os\n",
    "app.config['SQLALCHEMY_DATABASE_URI'] = 'sqlite:////' + os.path.join(app.root_path, 'data.db')"
   ]
  },
  {
   "cell_type": "code",
   "execution_count": 7,
   "id": "3a5b69ab",
   "metadata": {},
   "outputs": [],
   "source": [
    "from flask import Flask, render_template\n",
    "import os\n",
    "from flask_sqlalchemy import SQLAlchemy # 导入扩展类\n",
    "app = Flask(__name__)\n",
    "\n",
    "\n",
    "\n",
    "app.config['SQLALCHEMY_DATABASE_URI'] = 'sqlite:////'+ os.path.join(app.root_path, 'data.db')\n",
    "db = SQLAlchemy(app) "
   ]
  },
  {
   "cell_type": "code",
   "execution_count": 14,
   "id": "0cf82f79",
   "metadata": {},
   "outputs": [
    {
     "name": "stdout",
     "output_type": "stream",
     "text": [
      " * Serving Flask app '__main__'\n",
      " * Debug mode: off\n"
     ]
    },
    {
     "name": "stderr",
     "output_type": "stream",
     "text": [
      "WARNING: This is a development server. Do not use it in a production deployment. Use a production WSGI server instead.\n",
      " * Running on http://127.0.0.1:5000\n",
      "Press CTRL+C to quit\n"
     ]
    }
   ],
   "source": [
    "import os\n",
    "import sys\n",
    "from flask import Flask\n",
    "from flask_sqlalchemy import SQLAlchemy\n",
    "import click\n",
    "WIN = sys.platform.startswith('win')\n",
    "if WIN: # 如果是 Windows 系统，使用三个斜线\n",
    "    prefix = 'sqlite:///'\n",
    "else: # 否则使用四个斜线\n",
    "    prefix = 'sqlite:////'\n",
    "app = Flask(__name__)\n",
    "app.config['SQLALCHEMY_DATABASE_URI'] = prefix + os.path.join(app.root_path, 'data.db')\n",
    "app.config['SQLALCHEMY_TRACK_MODIFICATIONS'] = False # 关闭对模型修改的监控\n",
    "# 在扩展类实例化前加载配置\n",
    "db = SQLAlchemy(app)\n",
    "\n",
    "\n",
    "@app.cli.command()  # 注册为命令，可以传入 name 参数来自定义命令\n",
    "@click.option('--drop', is_flag=True, help='Create after drop.')  # 设置选项\n",
    "def initdb(drop):\n",
    "    \"\"\"Initialize the database.\"\"\"\n",
    "    if drop:  # 判断是否输入了选项\n",
    "        db.drop_all()\n",
    "    db.create_all()\n",
    "    click.echo('Initialized database.')  # 输出提示信息\n",
    "@app.route('/')\n",
    "def index():\n",
    "    return render_template('index.html', name=name, movies=movies)\n",
    "\n",
    "if __name__ == '__main__':\n",
    "    app.run()"
   ]
  },
  {
   "cell_type": "code",
   "execution_count": 15,
   "id": "f44de3d0",
   "metadata": {},
   "outputs": [
    {
     "name": "stdout",
     "output_type": "stream",
     "text": [
      " * Serving Flask app '__main__'\n",
      " * Debug mode: on\n"
     ]
    },
    {
     "name": "stderr",
     "output_type": "stream",
     "text": [
      "WARNING: This is a development server. Do not use it in a production deployment. Use a production WSGI server instead.\n",
      " * Running on http://127.0.0.1:5000\n",
      "Press CTRL+C to quit\n",
      " * Restarting with watchdog (windowsapi)\n"
     ]
    },
    {
     "ename": "SystemExit",
     "evalue": "1",
     "output_type": "error",
     "traceback": [
      "An exception has occurred, use %tb to see the full traceback.\n",
      "\u001b[1;31mSystemExit\u001b[0m\u001b[1;31m:\u001b[0m 1\n"
     ]
    },
    {
     "name": "stderr",
     "output_type": "stream",
     "text": [
      "D:\\anaconda\\Lib\\site-packages\\IPython\\core\\interactiveshell.py:3513: UserWarning: To exit: use 'exit', 'quit', or Ctrl-D.\n",
      "  warn(\"To exit: use 'exit', 'quit', or Ctrl-D.\", stacklevel=1)\n"
     ]
    }
   ],
   "source": [
    "from flask import Flask, render_template\n",
    "from flask_sqlalchemy import SQLAlchemy\n",
    "\n",
    "WIN = sys.platform.startswith('win')\n",
    "if WIN:\n",
    "    prefix = 'sqlite:///'\n",
    "else:\n",
    "    prefix = 'sqlite:////'\n",
    "\n",
    "app = Flask(__name__)\n",
    "app.config['SQLALCHEMY_DATABASE_URI'] = prefix + os.path.join(app.root_path, 'data.db')\n",
    "app.config['SQLALCHEMY_TRACK_MODIFICATIONS'] = False\n",
    "db = SQLAlchemy(app)\n",
    "\n",
    "class User(db.Model):\n",
    "    id = db.Column(db.Integer, primary_key=True)\n",
    "    name = db.Column(db.String(20))\n",
    "\n",
    "class Movie(db.Model):\n",
    "    id = db.Column(db.Integer, primary_key=True)\n",
    "    title = db.Column(db.String(60))\n",
    "    year = db.Column(db.String(4))\n",
    "\n",
    "# This route will display user and movie information\n",
    "@app.route('/')\n",
    "def index():\n",
    "    # Query all users and movies from the database\n",
    "    users = User.query.all()\n",
    "    movies = Movie.query.all()\n",
    "    \n",
    "    # Pass the data to the template for rendering\n",
    "    return render_template('index.html', users=users, movies=movies)\n",
    "\n",
    "if __name__ == '__main__':\n",
    "    # Ensure that the database tables are created before running the app\n",
    "    with app.app_context():\n",
    "        db.create_all()\n",
    "    app.run(debug=True)\n"
   ]
  },
  {
   "cell_type": "code",
   "execution_count": 13,
   "id": "168d4ca3",
   "metadata": {},
   "outputs": [],
   "source": [
    "class User(db.Model): # 表名将会是 user（自动生成，小写处理）\n",
    "    id = db.Column(db.Integer, primary_key=True) # 主键\n",
    "    name = db.Column(db.String(20)) # 名字\n",
    "class Movie(db.Model): # 表名将会是 movie\n",
    "    id = db.Column(db.Integer, primary_key=True) # 主键\n",
    "    title = db.Column(db.String(60)) # 电影标题\n",
    "    year = db.Column(db.String(4)) # 电影年份\n"
   ]
  },
  {
   "cell_type": "code",
   "execution_count": null,
   "id": "af6324b8",
   "metadata": {},
   "outputs": [],
   "source": [
    "app = Flask(__name__)\n",
    "\n",
    "\n",
    "\n",
    "@app.route('/')\n",
    "def index():\n",
    "    return render_template('index.html', name=name, movies=movies)\n",
    "\n",
    "if __name__ == '__main__':\n",
    "    app.run()"
   ]
  },
  {
   "cell_type": "code",
   "execution_count": 12,
   "id": "31af8e03",
   "metadata": {},
   "outputs": [],
   "source": [
    "db = SQLAlchemy() # db intitialized here\n",
    "app = Flask(__name__)\n",
    "app.config[\"SQLALCHEMY_DATABASE_URI\"] = \"sqlite:///test.db\"\n",
    "db.init_app(app)"
   ]
  },
  {
   "cell_type": "code",
   "execution_count": null,
   "id": "6a875ea0",
   "metadata": {},
   "outputs": [],
   "source": []
  },
  {
   "cell_type": "code",
   "execution_count": null,
   "id": "98f99ad1",
   "metadata": {},
   "outputs": [],
   "source": []
  },
  {
   "cell_type": "code",
   "execution_count": null,
   "id": "42d47ea9",
   "metadata": {},
   "outputs": [],
   "source": []
  },
  {
   "cell_type": "code",
   "execution_count": null,
   "id": "c983d211",
   "metadata": {},
   "outputs": [],
   "source": []
  },
  {
   "cell_type": "code",
   "execution_count": null,
   "id": "95edfbe0",
   "metadata": {},
   "outputs": [],
   "source": []
  },
  {
   "cell_type": "code",
   "execution_count": null,
   "id": "7243b053",
   "metadata": {},
   "outputs": [],
   "source": []
  }
 ],
 "metadata": {
  "kernelspec": {
   "display_name": "Python 3 (ipykernel)",
   "language": "python",
   "name": "python3"
  },
  "language_info": {
   "codemirror_mode": {
    "name": "ipython",
    "version": 3
   },
   "file_extension": ".py",
   "mimetype": "text/x-python",
   "name": "python",
   "nbconvert_exporter": "python",
   "pygments_lexer": "ipython3",
   "version": "3.11.3"
  }
 },
 "nbformat": 4,
 "nbformat_minor": 5
}
