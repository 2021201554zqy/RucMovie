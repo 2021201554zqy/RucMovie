{
 "cells": [
  {
   "cell_type": "code",
   "execution_count": 5,
   "id": "881e6ff8-d980-4502-950b-b4082ee502e1",
   "metadata": {
    "tags": []
   },
   "outputs": [],
   "source": [
    "from flask import Flask, render_template, Blueprint\n",
    "from flask_sqlalchemy import SQLAlchemy\n",
    "from sqlalchemy import text as query_text\n",
    "from sqlalchemy.sql import func\n",
    "from helpers.echarts import hbar_option\n",
    "import pandas as pd\n",
    "import numpy as np\n",
    "import os\n",
    "import json\n",
    "import plotly.express as px\n"
   ]
  },
  {
   "cell_type": "code",
   "execution_count": 6,
   "id": "24ccc845-d459-4f21-998f-39f6a37fb898",
   "metadata": {
    "tags": []
   },
   "outputs": [
    {
     "ename": "AttributeError",
     "evalue": "'OptionEngine' object has no attribute 'execute'",
     "output_type": "error",
     "traceback": [
      "\u001b[1;31m---------------------------------------------------------------------------\u001b[0m",
      "\u001b[1;31mAttributeError\u001b[0m                            Traceback (most recent call last)",
      "Cell \u001b[1;32mIn[6], line 7\u001b[0m\n\u001b[0;32m      4\u001b[0m app\u001b[38;5;241m.\u001b[39mapp_context()\u001b[38;5;241m.\u001b[39mpush()\n\u001b[0;32m      5\u001b[0m db \u001b[38;5;241m=\u001b[39m SQLAlchemy(app)\n\u001b[1;32m----> 7\u001b[0m movies \u001b[38;5;241m=\u001b[39m pd\u001b[38;5;241m.\u001b[39mread_sql(\u001b[38;5;124m'\u001b[39m\u001b[38;5;124mmovie_info\u001b[39m\u001b[38;5;124m'\u001b[39m, db\u001b[38;5;241m.\u001b[39mengine)\n\u001b[0;32m      8\u001b[0m persons \u001b[38;5;241m=\u001b[39m pd\u001b[38;5;241m.\u001b[39mread_sql(\u001b[38;5;124m'\u001b[39m\u001b[38;5;124mpersons\u001b[39m\u001b[38;5;124m'\u001b[39m, db\u001b[38;5;241m.\u001b[39mengine)\n\u001b[0;32m      9\u001b[0m associations \u001b[38;5;241m=\u001b[39m pd\u001b[38;5;241m.\u001b[39mread_sql(\u001b[38;5;124m'\u001b[39m\u001b[38;5;124mmovie_actor_association\u001b[39m\u001b[38;5;124m'\u001b[39m, db\u001b[38;5;241m.\u001b[39mengine)\n",
      "File \u001b[1;32mD:\\anaconda\\Lib\\site-packages\\pandas\\io\\sql.py:581\u001b[0m, in \u001b[0;36mread_sql\u001b[1;34m(sql, con, index_col, coerce_float, params, parse_dates, columns, chunksize)\u001b[0m\n\u001b[0;32m    579\u001b[0m \u001b[38;5;28;01mif\u001b[39;00m _is_table_name:\n\u001b[0;32m    580\u001b[0m     pandas_sql\u001b[38;5;241m.\u001b[39mmeta\u001b[38;5;241m.\u001b[39mreflect(bind\u001b[38;5;241m=\u001b[39mpandas_sql\u001b[38;5;241m.\u001b[39mconnectable, only\u001b[38;5;241m=\u001b[39m[sql])\n\u001b[1;32m--> 581\u001b[0m     \u001b[38;5;28;01mreturn\u001b[39;00m pandas_sql\u001b[38;5;241m.\u001b[39mread_table(\n\u001b[0;32m    582\u001b[0m         sql,\n\u001b[0;32m    583\u001b[0m         index_col\u001b[38;5;241m=\u001b[39mindex_col,\n\u001b[0;32m    584\u001b[0m         coerce_float\u001b[38;5;241m=\u001b[39mcoerce_float,\n\u001b[0;32m    585\u001b[0m         parse_dates\u001b[38;5;241m=\u001b[39mparse_dates,\n\u001b[0;32m    586\u001b[0m         columns\u001b[38;5;241m=\u001b[39mcolumns,\n\u001b[0;32m    587\u001b[0m         chunksize\u001b[38;5;241m=\u001b[39mchunksize,\n\u001b[0;32m    588\u001b[0m     )\n\u001b[0;32m    589\u001b[0m \u001b[38;5;28;01melse\u001b[39;00m:\n\u001b[0;32m    590\u001b[0m     \u001b[38;5;28;01mreturn\u001b[39;00m pandas_sql\u001b[38;5;241m.\u001b[39mread_query(\n\u001b[0;32m    591\u001b[0m         sql,\n\u001b[0;32m    592\u001b[0m         index_col\u001b[38;5;241m=\u001b[39mindex_col,\n\u001b[1;32m   (...)\u001b[0m\n\u001b[0;32m    596\u001b[0m         chunksize\u001b[38;5;241m=\u001b[39mchunksize,\n\u001b[0;32m    597\u001b[0m     )\n",
      "File \u001b[1;32mD:\\anaconda\\Lib\\site-packages\\pandas\\io\\sql.py:1460\u001b[0m, in \u001b[0;36mSQLDatabase.read_table\u001b[1;34m(self, table_name, index_col, coerce_float, parse_dates, columns, schema, chunksize)\u001b[0m\n\u001b[0;32m   1417\u001b[0m \u001b[38;5;250m\u001b[39m\u001b[38;5;124;03m\"\"\"\u001b[39;00m\n\u001b[0;32m   1418\u001b[0m \u001b[38;5;124;03mRead SQL database table into a DataFrame.\u001b[39;00m\n\u001b[0;32m   1419\u001b[0m \n\u001b[1;32m   (...)\u001b[0m\n\u001b[0;32m   1457\u001b[0m \n\u001b[0;32m   1458\u001b[0m \u001b[38;5;124;03m\"\"\"\u001b[39;00m\n\u001b[0;32m   1459\u001b[0m table \u001b[38;5;241m=\u001b[39m SQLTable(table_name, \u001b[38;5;28mself\u001b[39m, index\u001b[38;5;241m=\u001b[39mindex_col, schema\u001b[38;5;241m=\u001b[39mschema)\n\u001b[1;32m-> 1460\u001b[0m \u001b[38;5;28;01mreturn\u001b[39;00m table\u001b[38;5;241m.\u001b[39mread(\n\u001b[0;32m   1461\u001b[0m     coerce_float\u001b[38;5;241m=\u001b[39mcoerce_float,\n\u001b[0;32m   1462\u001b[0m     parse_dates\u001b[38;5;241m=\u001b[39mparse_dates,\n\u001b[0;32m   1463\u001b[0m     columns\u001b[38;5;241m=\u001b[39mcolumns,\n\u001b[0;32m   1464\u001b[0m     chunksize\u001b[38;5;241m=\u001b[39mchunksize,\n\u001b[0;32m   1465\u001b[0m )\n",
      "File \u001b[1;32mD:\\anaconda\\Lib\\site-packages\\pandas\\io\\sql.py:1003\u001b[0m, in \u001b[0;36mSQLTable.read\u001b[1;34m(self, coerce_float, parse_dates, columns, chunksize)\u001b[0m\n\u001b[0;32m   1001\u001b[0m \u001b[38;5;28;01melse\u001b[39;00m:\n\u001b[0;32m   1002\u001b[0m     sql_select \u001b[38;5;241m=\u001b[39m select(\u001b[38;5;28mself\u001b[39m\u001b[38;5;241m.\u001b[39mtable)\n\u001b[1;32m-> 1003\u001b[0m result \u001b[38;5;241m=\u001b[39m \u001b[38;5;28mself\u001b[39m\u001b[38;5;241m.\u001b[39mpd_sql\u001b[38;5;241m.\u001b[39mexecute(sql_select)\n\u001b[0;32m   1004\u001b[0m column_names \u001b[38;5;241m=\u001b[39m result\u001b[38;5;241m.\u001b[39mkeys()\n\u001b[0;32m   1006\u001b[0m \u001b[38;5;28;01mif\u001b[39;00m chunksize \u001b[38;5;129;01mis\u001b[39;00m \u001b[38;5;129;01mnot\u001b[39;00m \u001b[38;5;28;01mNone\u001b[39;00m:\n",
      "File \u001b[1;32mD:\\anaconda\\Lib\\site-packages\\pandas\\io\\sql.py:1405\u001b[0m, in \u001b[0;36mSQLDatabase.execute\u001b[1;34m(self, *args, **kwargs)\u001b[0m\n\u001b[0;32m   1403\u001b[0m \u001b[38;5;28;01mdef\u001b[39;00m \u001b[38;5;21mexecute\u001b[39m(\u001b[38;5;28mself\u001b[39m, \u001b[38;5;241m*\u001b[39margs, \u001b[38;5;241m*\u001b[39m\u001b[38;5;241m*\u001b[39mkwargs):\n\u001b[0;32m   1404\u001b[0m \u001b[38;5;250m    \u001b[39m\u001b[38;5;124;03m\"\"\"Simple passthrough to SQLAlchemy connectable\"\"\"\u001b[39;00m\n\u001b[1;32m-> 1405\u001b[0m     \u001b[38;5;28;01mreturn\u001b[39;00m \u001b[38;5;28mself\u001b[39m\u001b[38;5;241m.\u001b[39mconnectable\u001b[38;5;241m.\u001b[39mexecution_options()\u001b[38;5;241m.\u001b[39mexecute(\u001b[38;5;241m*\u001b[39margs, \u001b[38;5;241m*\u001b[39m\u001b[38;5;241m*\u001b[39mkwargs)\n",
      "\u001b[1;31mAttributeError\u001b[0m: 'OptionEngine' object has no attribute 'execute'"
     ]
    }
   ],
   "source": [
    "app = Flask(__name__)\n",
    "app.config['SQLALCHEMY_DATABASE_URI'] = 'sqlite:///' + os.path.join(app.root_path, 'movie.db')\n",
    "app.config['SQLALCHEMY_TRACK_MODIFICATIONS'] = False \n",
    "app.app_context().push()\n",
    "db = SQLAlchemy(app)\n",
    "\n",
    "movies = pd.read_sql('movie_info', db.engine)\n",
    "persons = pd.read_sql('persons', db.engine)\n",
    "associations = pd.read_sql('movie_actor_association', db.engine)"
   ]
  },
  {
   "cell_type": "code",
   "execution_count": 5,
   "id": "010e1db3-c566-4d22-ba6a-b770fb891c56",
   "metadata": {
    "tags": []
   },
   "outputs": [
    {
     "ename": "AttributeError",
     "evalue": "'OptionEngine' object has no attribute 'execute'",
     "output_type": "error",
     "traceback": [
      "\u001b[1;31m---------------------------------------------------------------------------\u001b[0m",
      "\u001b[1;31mAttributeError\u001b[0m                            Traceback (most recent call last)",
      "Cell \u001b[1;32mIn[5], line 6\u001b[0m\n\u001b[0;32m      4\u001b[0m app\u001b[38;5;241m.\u001b[39mapp_context()\u001b[38;5;241m.\u001b[39mpush()\n\u001b[0;32m      5\u001b[0m db \u001b[38;5;241m=\u001b[39m SQLAlchemy(app)\n\u001b[1;32m----> 6\u001b[0m movies \u001b[38;5;241m=\u001b[39m pd\u001b[38;5;241m.\u001b[39mread_sql(\u001b[38;5;124m'\u001b[39m\u001b[38;5;124mmovie_info\u001b[39m\u001b[38;5;124m'\u001b[39m, db\u001b[38;5;241m.\u001b[39mengine)\n\u001b[0;32m      7\u001b[0m persons \u001b[38;5;241m=\u001b[39m pd\u001b[38;5;241m.\u001b[39mread_sql(\u001b[38;5;124m'\u001b[39m\u001b[38;5;124mactor_info\u001b[39m\u001b[38;5;124m'\u001b[39m, db\u001b[38;5;241m.\u001b[39mengine)\n\u001b[0;32m      8\u001b[0m associations \u001b[38;5;241m=\u001b[39m pd\u001b[38;5;241m.\u001b[39mread_sql(\u001b[38;5;124m'\u001b[39m\u001b[38;5;124mmovie_actor_association\u001b[39m\u001b[38;5;124m'\u001b[39m, db\u001b[38;5;241m.\u001b[39mengine)\n",
      "File \u001b[1;32mD:\\anaconda\\Lib\\site-packages\\pandas\\io\\sql.py:581\u001b[0m, in \u001b[0;36mread_sql\u001b[1;34m(sql, con, index_col, coerce_float, params, parse_dates, columns, chunksize)\u001b[0m\n\u001b[0;32m    579\u001b[0m \u001b[38;5;28;01mif\u001b[39;00m _is_table_name:\n\u001b[0;32m    580\u001b[0m     pandas_sql\u001b[38;5;241m.\u001b[39mmeta\u001b[38;5;241m.\u001b[39mreflect(bind\u001b[38;5;241m=\u001b[39mpandas_sql\u001b[38;5;241m.\u001b[39mconnectable, only\u001b[38;5;241m=\u001b[39m[sql])\n\u001b[1;32m--> 581\u001b[0m     \u001b[38;5;28;01mreturn\u001b[39;00m pandas_sql\u001b[38;5;241m.\u001b[39mread_table(\n\u001b[0;32m    582\u001b[0m         sql,\n\u001b[0;32m    583\u001b[0m         index_col\u001b[38;5;241m=\u001b[39mindex_col,\n\u001b[0;32m    584\u001b[0m         coerce_float\u001b[38;5;241m=\u001b[39mcoerce_float,\n\u001b[0;32m    585\u001b[0m         parse_dates\u001b[38;5;241m=\u001b[39mparse_dates,\n\u001b[0;32m    586\u001b[0m         columns\u001b[38;5;241m=\u001b[39mcolumns,\n\u001b[0;32m    587\u001b[0m         chunksize\u001b[38;5;241m=\u001b[39mchunksize,\n\u001b[0;32m    588\u001b[0m     )\n\u001b[0;32m    589\u001b[0m \u001b[38;5;28;01melse\u001b[39;00m:\n\u001b[0;32m    590\u001b[0m     \u001b[38;5;28;01mreturn\u001b[39;00m pandas_sql\u001b[38;5;241m.\u001b[39mread_query(\n\u001b[0;32m    591\u001b[0m         sql,\n\u001b[0;32m    592\u001b[0m         index_col\u001b[38;5;241m=\u001b[39mindex_col,\n\u001b[1;32m   (...)\u001b[0m\n\u001b[0;32m    596\u001b[0m         chunksize\u001b[38;5;241m=\u001b[39mchunksize,\n\u001b[0;32m    597\u001b[0m     )\n",
      "File \u001b[1;32mD:\\anaconda\\Lib\\site-packages\\pandas\\io\\sql.py:1460\u001b[0m, in \u001b[0;36mSQLDatabase.read_table\u001b[1;34m(self, table_name, index_col, coerce_float, parse_dates, columns, schema, chunksize)\u001b[0m\n\u001b[0;32m   1417\u001b[0m \u001b[38;5;250m\u001b[39m\u001b[38;5;124;03m\"\"\"\u001b[39;00m\n\u001b[0;32m   1418\u001b[0m \u001b[38;5;124;03mRead SQL database table into a DataFrame.\u001b[39;00m\n\u001b[0;32m   1419\u001b[0m \n\u001b[1;32m   (...)\u001b[0m\n\u001b[0;32m   1457\u001b[0m \n\u001b[0;32m   1458\u001b[0m \u001b[38;5;124;03m\"\"\"\u001b[39;00m\n\u001b[0;32m   1459\u001b[0m table \u001b[38;5;241m=\u001b[39m SQLTable(table_name, \u001b[38;5;28mself\u001b[39m, index\u001b[38;5;241m=\u001b[39mindex_col, schema\u001b[38;5;241m=\u001b[39mschema)\n\u001b[1;32m-> 1460\u001b[0m \u001b[38;5;28;01mreturn\u001b[39;00m table\u001b[38;5;241m.\u001b[39mread(\n\u001b[0;32m   1461\u001b[0m     coerce_float\u001b[38;5;241m=\u001b[39mcoerce_float,\n\u001b[0;32m   1462\u001b[0m     parse_dates\u001b[38;5;241m=\u001b[39mparse_dates,\n\u001b[0;32m   1463\u001b[0m     columns\u001b[38;5;241m=\u001b[39mcolumns,\n\u001b[0;32m   1464\u001b[0m     chunksize\u001b[38;5;241m=\u001b[39mchunksize,\n\u001b[0;32m   1465\u001b[0m )\n",
      "File \u001b[1;32mD:\\anaconda\\Lib\\site-packages\\pandas\\io\\sql.py:1003\u001b[0m, in \u001b[0;36mSQLTable.read\u001b[1;34m(self, coerce_float, parse_dates, columns, chunksize)\u001b[0m\n\u001b[0;32m   1001\u001b[0m \u001b[38;5;28;01melse\u001b[39;00m:\n\u001b[0;32m   1002\u001b[0m     sql_select \u001b[38;5;241m=\u001b[39m select(\u001b[38;5;28mself\u001b[39m\u001b[38;5;241m.\u001b[39mtable)\n\u001b[1;32m-> 1003\u001b[0m result \u001b[38;5;241m=\u001b[39m \u001b[38;5;28mself\u001b[39m\u001b[38;5;241m.\u001b[39mpd_sql\u001b[38;5;241m.\u001b[39mexecute(sql_select)\n\u001b[0;32m   1004\u001b[0m column_names \u001b[38;5;241m=\u001b[39m result\u001b[38;5;241m.\u001b[39mkeys()\n\u001b[0;32m   1006\u001b[0m \u001b[38;5;28;01mif\u001b[39;00m chunksize \u001b[38;5;129;01mis\u001b[39;00m \u001b[38;5;129;01mnot\u001b[39;00m \u001b[38;5;28;01mNone\u001b[39;00m:\n",
      "File \u001b[1;32mD:\\anaconda\\Lib\\site-packages\\pandas\\io\\sql.py:1405\u001b[0m, in \u001b[0;36mSQLDatabase.execute\u001b[1;34m(self, *args, **kwargs)\u001b[0m\n\u001b[0;32m   1403\u001b[0m \u001b[38;5;28;01mdef\u001b[39;00m \u001b[38;5;21mexecute\u001b[39m(\u001b[38;5;28mself\u001b[39m, \u001b[38;5;241m*\u001b[39margs, \u001b[38;5;241m*\u001b[39m\u001b[38;5;241m*\u001b[39mkwargs):\n\u001b[0;32m   1404\u001b[0m \u001b[38;5;250m    \u001b[39m\u001b[38;5;124;03m\"\"\"Simple passthrough to SQLAlchemy connectable\"\"\"\u001b[39;00m\n\u001b[1;32m-> 1405\u001b[0m     \u001b[38;5;28;01mreturn\u001b[39;00m \u001b[38;5;28mself\u001b[39m\u001b[38;5;241m.\u001b[39mconnectable\u001b[38;5;241m.\u001b[39mexecution_options()\u001b[38;5;241m.\u001b[39mexecute(\u001b[38;5;241m*\u001b[39margs, \u001b[38;5;241m*\u001b[39m\u001b[38;5;241m*\u001b[39mkwargs)\n",
      "\u001b[1;31mAttributeError\u001b[0m: 'OptionEngine' object has no attribute 'execute'"
     ]
    }
   ],
   "source": [
    "app = Flask(__name__)\n",
    "app.config['SQLALCHEMY_DATABASE_URI'] = 'sqlite:///' + os.path.join(app.root_path, 'movie.db')\n",
    "app.config['SQLALCHEMY_TRACK_MODIFICATIONS'] = False \n",
    "app.app_context().push()\n",
    "db = SQLAlchemy(app)\n",
    "movies = pd.read_sql('movie_info', db.engine)\n",
    "persons = pd.read_sql('actor_info', db.engine)\n",
    "associations = pd.read_sql('movie_actor_association', db.engine)"
   ]
  },
  {
   "cell_type": "code",
   "execution_count": null,
   "id": "eee6b45c-a0d8-4538-a5bd-cddfa91aca6a",
   "metadata": {},
   "outputs": [],
   "source": [
    "\n",
    "\n",
    "# Create a Blueprint instance\n",
    "blueprint_douban = Blueprint('box', __name__)\n",
    "\n",
    "# Define routes using the Blueprint\n",
    "\n",
    "\n",
    "\n",
    "\n",
    "\n",
    "movies['link'] = movies.apply(lambda x: f\"\"\"<a href=\"{x['douban_url']}\">{x['douban_rate']}</a>\"\"\", axis=1)\n",
    "movies['release_year'] = movies.release_year.fillna(0).astype(np.int64)\n",
    "# movies['short'] = movies.description.str.replace(r'\\n| |\\u3000', '', regex=True)\n",
    "# movies['short'] = movies['short'].apply(lambda x: x if len(x)<155 else x[:155]+'...')\n",
    "movies['country'] = movies.country.str.split('/', expand=True)[0]\n",
    "\n",
    "movie_actor = {}\n",
    "\n",
    "for movie_id in associations.movie_id.unique():\n",
    "    movie_actor[movie_id] = associations.loc[associations.movie_id==movie_id, 'actor_id'].values.tolist()[:3]\n",
    "movie_actor = pd.DataFrame.from_dict(movie_actor, orient='index').stack().droplevel(-1).reset_index()\n",
    "movie_actor.columns = ['movie_id', 'actor_id']\n",
    "\n",
    "movie_name = movies.set_index('movie_id')['movie_name'].to_dict()\n",
    "movie_rate = movies.set_index('movie_id')['douban_rate'].to_dict()\n",
    "rate_count = movies.set_index('movie_id')['rating_count'].to_dict()\n",
    "person_group = movie_actor.groupby('actor_id')['movie_id']\n",
    "actors = pd.concat([\n",
    "    person_group.apply(lambda x: [mid for mid in x]),\n",
    "    person_group.apply(lambda x: [movie_name[mid] for mid in x]),\n",
    "    person_group.apply(lambda x: [movie_rate[mid] for mid in x]),\n",
    "    person_group.apply(lambda x: [rate_count[mid] for mid in x]),\n",
    "    person_group.apply(lambda x: '; '.join([f\"{movie_name[mid]}（{movie_rate[mid]})\" for mid in x])),\n",
    "], keys =['movie_id', 'movie_name', 'movie_rate', 'rate_count', 'movies'], \n",
    "axis=1).join(persons.set_index('actor_id'))\n",
    "actors['max_rate'] = actors.movie_rate.apply(max)\n",
    "actors['top_count'] = actors.movie_rate.apply(len)\n",
    "\n",
    "\n",
    "@blueprint_douban.route('/')\n",
    "@blueprint_douban.route('/index')\n",
    "@blueprint_douban.route('/movies')\n",
    "def movie_table():\n",
    "    movies.loc[movies.release_year==0, 'release_year'] = ''\n",
    "    cols = ['movie_id', 'movie_name', 'release_year', 'movie_type',  'country', 'link', 'short', 'poster']\n",
    "    vars = dict(data = movies[cols].values.tolist(), ensure_ascii=True)\n",
    "    return render_template('douban/movie_list.html', vars=vars)\n",
    "\n",
    "@blueprint_douban.route('/movie_top10')\n",
    "def movie_top10():\n",
    "    vars = {}\n",
    "    data = movies.loc[\n",
    "        movies.country.str.contains('大陆'), ['movie_name', 'douban_rate']\n",
    "    ].sort_values('douban_rate', ascending=False)[:10].set_index('movie_name')\n",
    "    vars['echart_mainland'] = hbar_option(\"大陆电影高分榜\", data.index.tolist(), data['douban_rate'].tolist())\n",
    "    data = movies.loc[\n",
    "        movies.country.str.contains('香港|台湾'), ['movie_name', 'douban_rate']\n",
    "    ].sort_values('douban_rate', ascending=False)[:10].set_index('movie_name')\n",
    "    vars['echart_hk'] = hbar_option(\"港台电影高分榜\", data.index.tolist(), data['douban_rate'].tolist())\n",
    "\n",
    "    data = movies.loc[\n",
    "        ~movies.country.str.contains('大陆|香港|台湾'), ['movie_name', 'douban_rate']\n",
    "    ].sort_values('douban_rate', ascending=False)[:10].set_index('movie_name')\n",
    "    vars['echart_oversea'] = hbar_option(\"国外电影高分榜\", data.index.tolist(), data['douban_rate'].tolist())\n",
    "\n",
    "    return render_template('douban/movie_top10.html', vars=vars)\n",
    "\n",
    "@blueprint_douban.route('/actors')\n",
    "def actor_table():\n",
    "    cols = ['person_name', 'gender', 'birth_date', 'birth_place',  'max_rate', 'top_count', 'movies']\n",
    "    vars = dict(data = actors[cols].values.tolist(), ensure_ascii=True)\n",
    "    return render_template('douban/actor_list.html', vars=vars)\n",
    "\n",
    "@blueprint_douban.route('/actormap')\n",
    "def actor_map():\n",
    "    with open('helpers/china.json', encoding='utf8') as f:\n",
    "        json_data = json.load(f)['features']\n",
    "    provinces = pd.DataFrame.from_dict(\n",
    "        data={p['properties']['name']:p['properties']['center'] for p in json_data if p['properties']['name']!=''},\n",
    "        orient='index', columns=['lon', 'lat']\n",
    "    )\n",
    "    provinces.index = provinces.index.str.replace('市|省|自治区|壮族|回族|维吾尔', '', regex=True)\n",
    "    provinces =  provinces.join(actors.loc[actors.birth_place.str.contains('中国'), 'birth_place'].str.split(',', expand=True)[1].value_counts())\n",
    "    provinces = provinces.loc[provinces['count'].notna()]\n",
    "\n",
    "    provinces['text'] = provinces.apply(lambda x: f\"{x.name}: {x['count']:0.0f}\", axis=1)\n",
    "\n",
    "    px.set_mapbox_access_token('pk.eyJ1Ijoia2FyaWJ1bnlhaHVhIiwiYSI6ImNsYW0xcGp4dDBhdW8zcG1pcHcxdDR1OGsifQ.I3r8tCO7g08pzM1kFYUwfg')\n",
    "    provinces = provinces.reset_index()\n",
    "    df = px.data.carshare()\n",
    "    fig = px.scatter_mapbox(provinces, lat=\"lat\", lon=\"lon\", size=\"count\", hover_name='index', size_max=30, zoom=4)\n",
    "    fig.update_layout(margin = dict(l = 0, r = 0, t = 0, b = 0), height=800)\n",
    "    div_map = fig.to_html(full_html=False)\n",
    "    return render_template('douban/actor_map.html', div_map=div_map)\n",
    "\n",
    "\n",
    "\n",
    "\n",
    "\n"
   ]
  },
  {
   "cell_type": "code",
   "execution_count": null,
   "id": "2cd0e66a-afb2-4a0d-947e-5ee38622191a",
   "metadata": {},
   "outputs": [],
   "source": []
  },
  {
   "cell_type": "code",
   "execution_count": null,
   "id": "738beb0d-f0b2-4156-962a-555efa964181",
   "metadata": {},
   "outputs": [],
   "source": []
  }
 ],
 "metadata": {
  "kernelspec": {
   "display_name": "Python 3 (ipykernel)",
   "language": "python",
   "name": "python3"
  },
  "language_info": {
   "codemirror_mode": {
    "name": "ipython",
    "version": 3
   },
   "file_extension": ".py",
   "mimetype": "text/x-python",
   "name": "python",
   "nbconvert_exporter": "python",
   "pygments_lexer": "ipython3",
   "version": "3.11.3"
  }
 },
 "nbformat": 4,
 "nbformat_minor": 5
}
