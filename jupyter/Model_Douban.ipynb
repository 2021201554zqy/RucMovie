{
 "cells": [
  {
   "cell_type": "code",
   "execution_count": 11,
   "id": "9f113389-976f-4863-a32c-6306289d94a7",
   "metadata": {},
   "outputs": [],
   "source": [
    "from flask import Flask\n",
    "from flask_sqlalchemy import SQLAlchemy\n",
    "from sqlalchemy import text as query_text\n",
    "from sqlalchemy.sql import func\n",
    "import os\n",
    "\n",
    "import pandas as pd\n",
    "import numpy as np\n",
    "import json, re\n",
    "\n",
    "app = Flask(__name__)\n",
    "# Configure SQLite database\n",
    "app.config['SQLALCHEMY_DATABASE_URI'] = 'sqlite:///' + os.path.join(app.root_path, '../douban.db')\n",
    "app.config['SQLALCHEMY_TRACK_MODIFICATIONS'] = False\n",
    "app.app_context().push()\n",
    "\n",
    "db = SQLAlchemy(app)\n",
    "\n",
    "# many to many relation\n",
    "# https://flask-sqlalchemy.palletsprojects.com/en/2.x/models/\n",
    "movie_actor_association = db.Table(\n",
    "    'movie_actor_association',\n",
    "    db.Column('movie_id', db.Integer, db.ForeignKey('douban_movies.movie_id')),\n",
    "    db.Column('person_id', db.Integer, db.ForeignKey('persons.person_id')),\n",
    ")\n",
    "\n",
    "\n",
    "class DoubanMovie(db.Model):\n",
    "    __tablename__ = 'douban_movies'\n",
    "\n",
    "    movie_id = db.Column(db.Integer, primary_key=True)\n",
    "    movie_name = db.Column(db.String(20))\n",
    "    release_date = db.Column(db.String(15))\n",
    "    country = db.Column(db.String(20))\n",
    "    movie_type = db.Column(db.String(10))\n",
    "    release_year = db.Column(db.Integer)\n",
    "    description = db.Column(db.Text)\n",
    "    douban_url = db.Column(db.String(255))\n",
    "    poster  = db.Column(db.String(255))\n",
    "    douban_rate  = db.Column(db.Float)\n",
    "    rating_count = db.Column(db.Integer)\n",
    "    \n",
    "    # actors = db.relationship('Person', secondary=movie_actor_association, backref='movies', lazy='dynamic')\n",
    "    persons = db.relationship('Person', secondary=movie_actor_association, backref='movies', lazy='dynamic')\n",
    " \n",
    "    def __repr__(self):\n",
    "        return f'<Douban {self.movie_name}>' \n",
    "    \n",
    "class Person(db.Model):\n",
    "    __tablename__ = 'persons'\n",
    "\n",
    "    person_id = db.Column(db.Integer, primary_key=True)\n",
    "    person_name = db.Column(db.String(20))\n",
    "    person_name_en = db.Column(db.String(20))\n",
    "    gender = db.Column(db.String(2))\n",
    "    birth_date = db.Column(db.String(20))\n",
    "    birth_place = db.Column(db.String(20))\n",
    "    birth_year = db.Column(db.Integer())\n",
    "    \n",
    "    def __repr__(self):\n",
    "        return f'<Person {self.person_name}>'    \n"
   ]
  },
  {
   "cell_type": "code",
   "execution_count": 3,
   "id": "b7857a00-b7cf-4ea9-a4ce-75e18712d048",
   "metadata": {
    "tags": []
   },
   "outputs": [],
   "source": [
    "movies = DoubanMovie.query.all()"
   ]
  },
  {
   "cell_type": "code",
   "execution_count": 4,
   "id": "098367d8-7f76-4d7e-81f6-978007a5c3bb",
   "metadata": {
    "tags": []
   },
   "outputs": [],
   "source": [
    "persons = Person.query.all()"
   ]
  },
  {
   "cell_type": "code",
   "execution_count": 8,
   "id": "373daa8e-2733-4848-ac94-7baacceee2f1",
   "metadata": {
    "tags": []
   },
   "outputs": [],
   "source": [
    "associations = movie_actor_association"
   ]
  },
  {
   "cell_type": "code",
   "execution_count": 2,
   "id": "bb2d0400-4fa9-47ab-b039-87a679164adb",
   "metadata": {},
   "outputs": [
    {
     "ename": "AttributeError",
     "evalue": "'OptionEngine' object has no attribute 'execute'",
     "output_type": "error",
     "traceback": [
      "\u001b[1;31m---------------------------------------------------------------------------\u001b[0m",
      "\u001b[1;31mAttributeError\u001b[0m                            Traceback (most recent call last)",
      "Cell \u001b[1;32mIn[2], line 1\u001b[0m\n\u001b[1;32m----> 1\u001b[0m movies \u001b[38;5;241m=\u001b[39m pd\u001b[38;5;241m.\u001b[39mread_sql(\u001b[38;5;124m'\u001b[39m\u001b[38;5;124mdouban_movies\u001b[39m\u001b[38;5;124m'\u001b[39m, db\u001b[38;5;241m.\u001b[39mengine)\n\u001b[0;32m      2\u001b[0m persons \u001b[38;5;241m=\u001b[39m pd\u001b[38;5;241m.\u001b[39mread_sql(\u001b[38;5;124m'\u001b[39m\u001b[38;5;124mpersons\u001b[39m\u001b[38;5;124m'\u001b[39m, db\u001b[38;5;241m.\u001b[39mengine)\n\u001b[0;32m      3\u001b[0m associations \u001b[38;5;241m=\u001b[39m pd\u001b[38;5;241m.\u001b[39mread_sql(\u001b[38;5;124m'\u001b[39m\u001b[38;5;124mmovie_actor_association\u001b[39m\u001b[38;5;124m'\u001b[39m, db\u001b[38;5;241m.\u001b[39mengine)\n",
      "File \u001b[1;32mD:\\anaconda\\Lib\\site-packages\\pandas\\io\\sql.py:581\u001b[0m, in \u001b[0;36mread_sql\u001b[1;34m(sql, con, index_col, coerce_float, params, parse_dates, columns, chunksize)\u001b[0m\n\u001b[0;32m    579\u001b[0m \u001b[38;5;28;01mif\u001b[39;00m _is_table_name:\n\u001b[0;32m    580\u001b[0m     pandas_sql\u001b[38;5;241m.\u001b[39mmeta\u001b[38;5;241m.\u001b[39mreflect(bind\u001b[38;5;241m=\u001b[39mpandas_sql\u001b[38;5;241m.\u001b[39mconnectable, only\u001b[38;5;241m=\u001b[39m[sql])\n\u001b[1;32m--> 581\u001b[0m     \u001b[38;5;28;01mreturn\u001b[39;00m pandas_sql\u001b[38;5;241m.\u001b[39mread_table(\n\u001b[0;32m    582\u001b[0m         sql,\n\u001b[0;32m    583\u001b[0m         index_col\u001b[38;5;241m=\u001b[39mindex_col,\n\u001b[0;32m    584\u001b[0m         coerce_float\u001b[38;5;241m=\u001b[39mcoerce_float,\n\u001b[0;32m    585\u001b[0m         parse_dates\u001b[38;5;241m=\u001b[39mparse_dates,\n\u001b[0;32m    586\u001b[0m         columns\u001b[38;5;241m=\u001b[39mcolumns,\n\u001b[0;32m    587\u001b[0m         chunksize\u001b[38;5;241m=\u001b[39mchunksize,\n\u001b[0;32m    588\u001b[0m     )\n\u001b[0;32m    589\u001b[0m \u001b[38;5;28;01melse\u001b[39;00m:\n\u001b[0;32m    590\u001b[0m     \u001b[38;5;28;01mreturn\u001b[39;00m pandas_sql\u001b[38;5;241m.\u001b[39mread_query(\n\u001b[0;32m    591\u001b[0m         sql,\n\u001b[0;32m    592\u001b[0m         index_col\u001b[38;5;241m=\u001b[39mindex_col,\n\u001b[1;32m   (...)\u001b[0m\n\u001b[0;32m    596\u001b[0m         chunksize\u001b[38;5;241m=\u001b[39mchunksize,\n\u001b[0;32m    597\u001b[0m     )\n",
      "File \u001b[1;32mD:\\anaconda\\Lib\\site-packages\\pandas\\io\\sql.py:1460\u001b[0m, in \u001b[0;36mSQLDatabase.read_table\u001b[1;34m(self, table_name, index_col, coerce_float, parse_dates, columns, schema, chunksize)\u001b[0m\n\u001b[0;32m   1417\u001b[0m \u001b[38;5;250m\u001b[39m\u001b[38;5;124;03m\"\"\"\u001b[39;00m\n\u001b[0;32m   1418\u001b[0m \u001b[38;5;124;03mRead SQL database table into a DataFrame.\u001b[39;00m\n\u001b[0;32m   1419\u001b[0m \n\u001b[1;32m   (...)\u001b[0m\n\u001b[0;32m   1457\u001b[0m \n\u001b[0;32m   1458\u001b[0m \u001b[38;5;124;03m\"\"\"\u001b[39;00m\n\u001b[0;32m   1459\u001b[0m table \u001b[38;5;241m=\u001b[39m SQLTable(table_name, \u001b[38;5;28mself\u001b[39m, index\u001b[38;5;241m=\u001b[39mindex_col, schema\u001b[38;5;241m=\u001b[39mschema)\n\u001b[1;32m-> 1460\u001b[0m \u001b[38;5;28;01mreturn\u001b[39;00m table\u001b[38;5;241m.\u001b[39mread(\n\u001b[0;32m   1461\u001b[0m     coerce_float\u001b[38;5;241m=\u001b[39mcoerce_float,\n\u001b[0;32m   1462\u001b[0m     parse_dates\u001b[38;5;241m=\u001b[39mparse_dates,\n\u001b[0;32m   1463\u001b[0m     columns\u001b[38;5;241m=\u001b[39mcolumns,\n\u001b[0;32m   1464\u001b[0m     chunksize\u001b[38;5;241m=\u001b[39mchunksize,\n\u001b[0;32m   1465\u001b[0m )\n",
      "File \u001b[1;32mD:\\anaconda\\Lib\\site-packages\\pandas\\io\\sql.py:1003\u001b[0m, in \u001b[0;36mSQLTable.read\u001b[1;34m(self, coerce_float, parse_dates, columns, chunksize)\u001b[0m\n\u001b[0;32m   1001\u001b[0m \u001b[38;5;28;01melse\u001b[39;00m:\n\u001b[0;32m   1002\u001b[0m     sql_select \u001b[38;5;241m=\u001b[39m select(\u001b[38;5;28mself\u001b[39m\u001b[38;5;241m.\u001b[39mtable)\n\u001b[1;32m-> 1003\u001b[0m result \u001b[38;5;241m=\u001b[39m \u001b[38;5;28mself\u001b[39m\u001b[38;5;241m.\u001b[39mpd_sql\u001b[38;5;241m.\u001b[39mexecute(sql_select)\n\u001b[0;32m   1004\u001b[0m column_names \u001b[38;5;241m=\u001b[39m result\u001b[38;5;241m.\u001b[39mkeys()\n\u001b[0;32m   1006\u001b[0m \u001b[38;5;28;01mif\u001b[39;00m chunksize \u001b[38;5;129;01mis\u001b[39;00m \u001b[38;5;129;01mnot\u001b[39;00m \u001b[38;5;28;01mNone\u001b[39;00m:\n",
      "File \u001b[1;32mD:\\anaconda\\Lib\\site-packages\\pandas\\io\\sql.py:1405\u001b[0m, in \u001b[0;36mSQLDatabase.execute\u001b[1;34m(self, *args, **kwargs)\u001b[0m\n\u001b[0;32m   1403\u001b[0m \u001b[38;5;28;01mdef\u001b[39;00m \u001b[38;5;21mexecute\u001b[39m(\u001b[38;5;28mself\u001b[39m, \u001b[38;5;241m*\u001b[39margs, \u001b[38;5;241m*\u001b[39m\u001b[38;5;241m*\u001b[39mkwargs):\n\u001b[0;32m   1404\u001b[0m \u001b[38;5;250m    \u001b[39m\u001b[38;5;124;03m\"\"\"Simple passthrough to SQLAlchemy connectable\"\"\"\u001b[39;00m\n\u001b[1;32m-> 1405\u001b[0m     \u001b[38;5;28;01mreturn\u001b[39;00m \u001b[38;5;28mself\u001b[39m\u001b[38;5;241m.\u001b[39mconnectable\u001b[38;5;241m.\u001b[39mexecution_options()\u001b[38;5;241m.\u001b[39mexecute(\u001b[38;5;241m*\u001b[39margs, \u001b[38;5;241m*\u001b[39m\u001b[38;5;241m*\u001b[39mkwargs)\n",
      "\u001b[1;31mAttributeError\u001b[0m: 'OptionEngine' object has no attribute 'execute'"
     ]
    }
   ],
   "source": [
    "movies = pd.read_sql('douban_movies', db.engine)\n",
    "persons = pd.read_sql('persons', db.engine)\n",
    "associations = pd.read_sql('movie_actor_association', db.engine)"
   ]
  },
  {
   "cell_type": "code",
   "execution_count": 9,
   "id": "9100bc3f-3f1d-4038-a880-123d69cd306d",
   "metadata": {},
   "outputs": [
    {
     "ename": "AttributeError",
     "evalue": "'Table' object has no attribute 'movie_id'",
     "output_type": "error",
     "traceback": [
      "\u001b[1;31m---------------------------------------------------------------------------\u001b[0m",
      "\u001b[1;31mAttributeError\u001b[0m                            Traceback (most recent call last)",
      "Cell \u001b[1;32mIn[9], line 3\u001b[0m\n\u001b[0;32m      1\u001b[0m movie_actor \u001b[38;5;241m=\u001b[39m {}\n\u001b[1;32m----> 3\u001b[0m \u001b[38;5;28;01mfor\u001b[39;00m movie_id \u001b[38;5;129;01min\u001b[39;00m associations\u001b[38;5;241m.\u001b[39mmovie_id\u001b[38;5;241m.\u001b[39munique():\n\u001b[0;32m      4\u001b[0m     movie_actor[movie_id] \u001b[38;5;241m=\u001b[39m associations\u001b[38;5;241m.\u001b[39mloc[associations\u001b[38;5;241m.\u001b[39mmovie_id\u001b[38;5;241m==\u001b[39mmovie_id, \u001b[38;5;124m'\u001b[39m\u001b[38;5;124mperson_id\u001b[39m\u001b[38;5;124m'\u001b[39m]\u001b[38;5;241m.\u001b[39mvalues\u001b[38;5;241m.\u001b[39mtolist()[:\u001b[38;5;241m3\u001b[39m]\n\u001b[0;32m      5\u001b[0m movie_actor \u001b[38;5;241m=\u001b[39m pd\u001b[38;5;241m.\u001b[39mDataFrame\u001b[38;5;241m.\u001b[39mfrom_dict(movie_actor, orient\u001b[38;5;241m=\u001b[39m\u001b[38;5;124m'\u001b[39m\u001b[38;5;124mindex\u001b[39m\u001b[38;5;124m'\u001b[39m)\u001b[38;5;241m.\u001b[39mstack()\u001b[38;5;241m.\u001b[39mdroplevel(\u001b[38;5;241m-\u001b[39m\u001b[38;5;241m1\u001b[39m)\u001b[38;5;241m.\u001b[39mreset_index()\n",
      "\u001b[1;31mAttributeError\u001b[0m: 'Table' object has no attribute 'movie_id'"
     ]
    }
   ],
   "source": [
    "movie_actor = {}\n",
    "\n",
    "for movie_id in associations.movie_id.unique():\n",
    "    movie_actor[movie_id] = associations.loc[associations.movie_id==movie_id, 'person_id'].values.tolist()[:3]\n",
    "movie_actor = pd.DataFrame.from_dict(movie_actor, orient='index').stack().droplevel(-1).reset_index()\n",
    "movie_actor.columns = ['movie_id', 'person_id']\n",
    "\n",
    "movie_name = movies.set_index('movie_id')['movie_name'].to_dict()\n",
    "movie_rate = movies.set_index('movie_id')['douban_rate'].to_dict()\n",
    "rate_count = movies.set_index('movie_id')['rating_count'].to_dict()\n",
    "person_group = movie_actor.groupby('person_id')['movie_id']\n",
    "actors = pd.concat([\n",
    "    person_group.apply(lambda x: [mid for mid in x]),\n",
    "    person_group.apply(lambda x: [movie_name[mid] for mid in x]),\n",
    "    person_group.apply(lambda x: [movie_rate[mid] for mid in x]),\n",
    "    person_group.apply(lambda x: [rate_count[mid] for mid in x]),\n",
    "    person_group.apply(lambda x: [f\"{movie_name[mid]}（{movie_rate[mid]})/n\" for mid in x]),\n",
    "], keys =['movie_id', 'movie_name', 'movie_rate', 'rate_count', 'movies'], \n",
    "axis=1).join(persons.set_index('person_id'))\n",
    "actors['max_rate'] = actors.movie_rate.apply(max)\n",
    "actors['top_count'] = actors.movie_rate.apply(len)\n",
    "actors = actors.sort_values(['max_rate', 'top_count'], ascending=False)"
   ]
  },
  {
   "cell_type": "code",
   "execution_count": null,
   "id": "5a4e75f1-9ded-42d8-9f2e-c518beab6a64",
   "metadata": {},
   "outputs": [],
   "source": [
    "actors.columns"
   ]
  },
  {
   "cell_type": "code",
   "execution_count": null,
   "id": "1054e244-17a9-4a12-bb2d-86ca51266235",
   "metadata": {},
   "outputs": [],
   "source": [
    "cols = ['person_name', 'gender', 'birth_date', 'birth_place',  'birth_year', 'max_rate', 'top_count', 'movies']\n",
    "actors[cols]"
   ]
  },
  {
   "cell_type": "code",
   "execution_count": 10,
   "id": "4e4c74bb-c28e-459b-b1ef-7a1849594fa7",
   "metadata": {},
   "outputs": [
    {
     "ename": "UnicodeDecodeError",
     "evalue": "'gbk' codec can't decode byte 0x82 in position 115: illegal multibyte sequence",
     "output_type": "error",
     "traceback": [
      "\u001b[1;31m---------------------------------------------------------------------------\u001b[0m",
      "\u001b[1;31mUnicodeDecodeError\u001b[0m                        Traceback (most recent call last)",
      "Cell \u001b[1;32mIn[10], line 5\u001b[0m\n\u001b[0;32m      2\u001b[0m \u001b[38;5;28;01mimport\u001b[39;00m \u001b[38;5;21;01mplotly\u001b[39;00m\u001b[38;5;21;01m.\u001b[39;00m\u001b[38;5;21;01mgraph_objects\u001b[39;00m \u001b[38;5;28;01mas\u001b[39;00m \u001b[38;5;21;01mgo\u001b[39;00m\n\u001b[0;32m      4\u001b[0m \u001b[38;5;28;01mwith\u001b[39;00m \u001b[38;5;28mopen\u001b[39m(\u001b[38;5;124m'\u001b[39m\u001b[38;5;124m../helpers/china.json\u001b[39m\u001b[38;5;124m'\u001b[39m) \u001b[38;5;28;01mas\u001b[39;00m f:\n\u001b[1;32m----> 5\u001b[0m     json_data \u001b[38;5;241m=\u001b[39m json\u001b[38;5;241m.\u001b[39mload(f)[\u001b[38;5;124m'\u001b[39m\u001b[38;5;124mfeatures\u001b[39m\u001b[38;5;124m'\u001b[39m]\n\u001b[0;32m      6\u001b[0m provinces \u001b[38;5;241m=\u001b[39m pd\u001b[38;5;241m.\u001b[39mDataFrame\u001b[38;5;241m.\u001b[39mfrom_dict(\n\u001b[0;32m      7\u001b[0m     data\u001b[38;5;241m=\u001b[39m{p[\u001b[38;5;124m'\u001b[39m\u001b[38;5;124mproperties\u001b[39m\u001b[38;5;124m'\u001b[39m][\u001b[38;5;124m'\u001b[39m\u001b[38;5;124mname\u001b[39m\u001b[38;5;124m'\u001b[39m]:p[\u001b[38;5;124m'\u001b[39m\u001b[38;5;124mproperties\u001b[39m\u001b[38;5;124m'\u001b[39m][\u001b[38;5;124m'\u001b[39m\u001b[38;5;124mcenter\u001b[39m\u001b[38;5;124m'\u001b[39m] \u001b[38;5;28;01mfor\u001b[39;00m p \u001b[38;5;129;01min\u001b[39;00m json_data \u001b[38;5;28;01mif\u001b[39;00m p[\u001b[38;5;124m'\u001b[39m\u001b[38;5;124mproperties\u001b[39m\u001b[38;5;124m'\u001b[39m][\u001b[38;5;124m'\u001b[39m\u001b[38;5;124mname\u001b[39m\u001b[38;5;124m'\u001b[39m]\u001b[38;5;241m!=\u001b[39m\u001b[38;5;124m'\u001b[39m\u001b[38;5;124m'\u001b[39m},\n\u001b[0;32m      8\u001b[0m     orient\u001b[38;5;241m=\u001b[39m\u001b[38;5;124m'\u001b[39m\u001b[38;5;124mindex\u001b[39m\u001b[38;5;124m'\u001b[39m, columns\u001b[38;5;241m=\u001b[39m[\u001b[38;5;124m'\u001b[39m\u001b[38;5;124mlon\u001b[39m\u001b[38;5;124m'\u001b[39m, \u001b[38;5;124m'\u001b[39m\u001b[38;5;124mlat\u001b[39m\u001b[38;5;124m'\u001b[39m]\n\u001b[0;32m      9\u001b[0m )\n\u001b[0;32m     10\u001b[0m provinces\u001b[38;5;241m.\u001b[39mindex \u001b[38;5;241m=\u001b[39m provinces\u001b[38;5;241m.\u001b[39mindex\u001b[38;5;241m.\u001b[39mstr\u001b[38;5;241m.\u001b[39mreplace(\u001b[38;5;124m'\u001b[39m\u001b[38;5;124m市|省|自治区|壮族|回族|维吾尔\u001b[39m\u001b[38;5;124m'\u001b[39m, \u001b[38;5;124m'\u001b[39m\u001b[38;5;124m'\u001b[39m, regex\u001b[38;5;241m=\u001b[39m\u001b[38;5;28;01mTrue\u001b[39;00m)\n",
      "File \u001b[1;32mD:\\anaconda\\Lib\\json\\__init__.py:293\u001b[0m, in \u001b[0;36mload\u001b[1;34m(fp, cls, object_hook, parse_float, parse_int, parse_constant, object_pairs_hook, **kw)\u001b[0m\n\u001b[0;32m    274\u001b[0m \u001b[38;5;28;01mdef\u001b[39;00m \u001b[38;5;21mload\u001b[39m(fp, \u001b[38;5;241m*\u001b[39m, \u001b[38;5;28mcls\u001b[39m\u001b[38;5;241m=\u001b[39m\u001b[38;5;28;01mNone\u001b[39;00m, object_hook\u001b[38;5;241m=\u001b[39m\u001b[38;5;28;01mNone\u001b[39;00m, parse_float\u001b[38;5;241m=\u001b[39m\u001b[38;5;28;01mNone\u001b[39;00m,\n\u001b[0;32m    275\u001b[0m         parse_int\u001b[38;5;241m=\u001b[39m\u001b[38;5;28;01mNone\u001b[39;00m, parse_constant\u001b[38;5;241m=\u001b[39m\u001b[38;5;28;01mNone\u001b[39;00m, object_pairs_hook\u001b[38;5;241m=\u001b[39m\u001b[38;5;28;01mNone\u001b[39;00m, \u001b[38;5;241m*\u001b[39m\u001b[38;5;241m*\u001b[39mkw):\n\u001b[0;32m    276\u001b[0m \u001b[38;5;250m    \u001b[39m\u001b[38;5;124;03m\"\"\"Deserialize ``fp`` (a ``.read()``-supporting file-like object containing\u001b[39;00m\n\u001b[0;32m    277\u001b[0m \u001b[38;5;124;03m    a JSON document) to a Python object.\u001b[39;00m\n\u001b[0;32m    278\u001b[0m \n\u001b[1;32m   (...)\u001b[0m\n\u001b[0;32m    291\u001b[0m \u001b[38;5;124;03m    kwarg; otherwise ``JSONDecoder`` is used.\u001b[39;00m\n\u001b[0;32m    292\u001b[0m \u001b[38;5;124;03m    \"\"\"\u001b[39;00m\n\u001b[1;32m--> 293\u001b[0m     \u001b[38;5;28;01mreturn\u001b[39;00m loads(fp\u001b[38;5;241m.\u001b[39mread(),\n\u001b[0;32m    294\u001b[0m         \u001b[38;5;28mcls\u001b[39m\u001b[38;5;241m=\u001b[39m\u001b[38;5;28mcls\u001b[39m, object_hook\u001b[38;5;241m=\u001b[39mobject_hook,\n\u001b[0;32m    295\u001b[0m         parse_float\u001b[38;5;241m=\u001b[39mparse_float, parse_int\u001b[38;5;241m=\u001b[39mparse_int,\n\u001b[0;32m    296\u001b[0m         parse_constant\u001b[38;5;241m=\u001b[39mparse_constant, object_pairs_hook\u001b[38;5;241m=\u001b[39mobject_pairs_hook, \u001b[38;5;241m*\u001b[39m\u001b[38;5;241m*\u001b[39mkw)\n",
      "\u001b[1;31mUnicodeDecodeError\u001b[0m: 'gbk' codec can't decode byte 0x82 in position 115: illegal multibyte sequence"
     ]
    }
   ],
   "source": [
    "()# https://plotly.com/python/scatter-plots-on-maps/\n",
    "import plotly.graph_objects as go\n",
    "\n",
    "with open('../helpers/china.json') as f:\n",
    "    json_data = json.load(f)['features']\n",
    "provinces = pd.DataFrame.from_dict(\n",
    "    data={p['properties']['name']:p['properties']['center'] for p in json_data if p['properties']['name']!=''},\n",
    "    orient='index', columns=['lon', 'lat']\n",
    ")\n",
    "provinces.index = provinces.index.str.replace('市|省|自治区|壮族|回族|维吾尔', '', regex=True)\n",
    "provinces =  provinces.join(actors.loc[actors.birth_place.str.contains('中国'), 'birth_place'].str.split(',', expand=True)[1].value_counts())\n",
    "provinces = provinces.loc[provinces['count'].notna()]\n",
    "\n",
    "provinces['text'] = provinces.apply(lambda x: f\"{x.name}: {x['count']:0.0f}\", axis=1)\n",
    "\n",
    "import plotly.express as px\n",
    "px.set_mapbox_access_token('pk.eyJ1Ijoia2FyaWJ1bnlhaHVhIiwiYSI6ImNsYW0xcGp4dDBhdW8zcG1pcHcxdDR1OGsifQ.I3r8tCO7g08pzM1kFYUwfg')\n",
    "provinces = provinces.reset_index()\n",
    "df = px.data.carshare()\n",
    "fig = px.scatter_mapbox(\n",
    "    provinces, lat=\"lat\", lon=\"lon\", size=\"count\", hover_name='index', size_max=20, zoom=3)\n",
    "fig.update_layout(margin = dict(l = 0, r = 0, t = 0, b = 0), coloraxis_showscale=False);\n",
    "html_string = fig.to_html(full_html=False)\n",
    "fig.show()"
   ]
  },
  {
   "cell_type": "code",
   "execution_count": null,
   "id": "244e6ca6-631f-4c68-936b-066393983881",
   "metadata": {},
   "outputs": [],
   "source": [
    "html_string"
   ]
  },
  {
   "cell_type": "code",
   "execution_count": null,
   "id": "5a34b22f-419f-4df3-957d-b2caa5d3e33f",
   "metadata": {},
   "outputs": [],
   "source": []
  }
 ],
 "metadata": {
  "kernelspec": {
   "display_name": "Python 3 (ipykernel)",
   "language": "python",
   "name": "python3"
  },
  "language_info": {
   "codemirror_mode": {
    "name": "ipython",
    "version": 3
   },
   "file_extension": ".py",
   "mimetype": "text/x-python",
   "name": "python",
   "nbconvert_exporter": "python",
   "pygments_lexer": "ipython3",
   "version": "3.11.3"
  }
 },
 "nbformat": 4,
 "nbformat_minor": 5
}
