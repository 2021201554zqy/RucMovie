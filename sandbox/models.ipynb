{
 "cells": [
  {
   "cell_type": "code",
   "execution_count": 18,
   "id": "745bfaac-9739-4c49-a63f-bae7c32c39a3",
   "metadata": {
    "tags": []
   },
   "outputs": [],
   "source": [
    "from flask import Flask, render_template\n",
    "from markupsafe import escape\n",
    "\n",
    "from flask_sqlalchemy import SQLAlchemy\n",
    "from sqlalchemy import text\n",
    "from sqlalchemy.sql import func\n",
    "import os\n",
    "\n",
    "app = Flask(__name__)\n",
    "app.config['SQLALCHEMY_DATABASE_URI'] = 'sqlite:///' + os.path.join(app.root_path, 'movie.db')\n",
    "app.config['SQLALCHEMY_TRACK_MODIFICATIONS'] = False \n",
    "app.app_context().push()\n",
    "\n",
    "db = SQLAlchemy(app)\n",
    "\n",
    "# many to many relation\n",
    "movie_actor_association = db.Table(\n",
    "    'movie_actor_association',\n",
    "    db.Column('movie_id', db.Integer, db.ForeignKey('movie_info.movie_id')),\n",
    "    db.Column('actor_id', db.Integer, db.ForeignKey('actor_info.actor_id')),\n",
    ")\n",
    "\n",
    "movie_director_association = db.Table(\n",
    "    'movie_director_association',\n",
    "    db.Column('movie_id', db.Integer, db.ForeignKey('movie_info.movie_id')),\n",
    "    db.Column('actor_id', db.Integer, db.ForeignKey('actor_info.actor_id')),\n",
    ")\n",
    "\n",
    "class Movie(db.Model):\n",
    "    __tablename__ = 'movie_info'\n",
    "\n",
    "    movie_id = db.Column(db.Integer, primary_key=True, autoincrement=True)\n",
    "    movie_name = db.Column(db.String(20))\n",
    "    release_date = db.Column(db.String(15))\n",
    "    country = db.Column(db.String(20))\n",
    "    movie_type = db.Column(db.String(10))\n",
    "    release_year = db.Column(db.Integer)\n",
    "    \n",
    "    moviebox = db.relationship('MovieBox', back_populates='movies', uselist=False)\n",
    "    actors = db.relationship('Actor', secondary=movie_actor_association, back_populates='movies')\n",
    "    director = db.relationship('Actor', secondary=movie_director_association, back_populates='movies')\n",
    "    \n",
    "    def __repr__(self):\n",
    "        return f'<Movie {self.movie_name}>'\n",
    "    \n",
    "class Actor(db.Model):\n",
    "    __tablename__ = 'actor_info'\n",
    "\n",
    "    actor_id = db.Column(db.Integer, primary_key=True, autoincrement=True)\n",
    "    actor_name = db.Column(db.String(20))\n",
    "    gender = db.Column(db.String(2))\n",
    "    country = db.Column(db.String(20))\n",
    "    \n",
    "    movies = db.relationship('Movie', secondary=movie_actor_association, back_populates='actors')\n",
    "    \n",
    "    def __repr__(self):\n",
    "        return f'<Actor {self.actor_name}>'    \n",
    "    \n",
    "# one to one relation\n",
    "class MovieBox(db.Model):\n",
    "    __tablename__ = 'movie_box'\n",
    "    movie_id = db.Column(db.String(10), db.ForeignKey('movie_info.movie_id'), unique=True, nullable=False, primary_key=True)\n",
    "    movie_box = db.Column(db.Float)\n",
    "    movies = db.relationship('Movie', back_populates='moviebox')\n",
    "\n",
    "movies = Movie.query.all()"
   ]
  },
  {
   "cell_type": "code",
   "execution_count": 27,
   "id": "7377a194-10da-460b-848e-1174bc0ef254",
   "metadata": {
    "tags": []
   },
   "outputs": [
    {
     "data": {
      "text/plain": [
       "[<Actor 吴京>, <Actor 易烊千玺>]"
      ]
     },
     "execution_count": 27,
     "metadata": {},
     "output_type": "execute_result"
    }
   ],
   "source": [
    "movies[-2].actors"
   ]
  },
  {
   "cell_type": "code",
   "execution_count": 28,
   "id": "02b42ed0-780d-4e43-8ace-a3379996fb9b",
   "metadata": {
    "tags": []
   },
   "outputs": [
    {
     "data": {
      "text/plain": [
       "1017"
      ]
     },
     "execution_count": 28,
     "metadata": {},
     "output_type": "execute_result"
    }
   ],
   "source": [
    "movies[-2].movie_id"
   ]
  },
  {
   "cell_type": "code",
   "execution_count": 29,
   "id": "5ce1202b-7e0a-423a-88e1-ba5909c06309",
   "metadata": {
    "tags": []
   },
   "outputs": [
    {
     "ename": "NotFound",
     "evalue": "404 Not Found: The requested URL was not found on the server. If you entered the URL manually please check your spelling and try again.",
     "output_type": "error",
     "traceback": [
      "\u001b[1;31m---------------------------------------------------------------------------\u001b[0m",
      "\u001b[1;31mNotFound\u001b[0m                                  Traceback (most recent call last)",
      "Cell \u001b[1;32mIn[29], line 1\u001b[0m\n\u001b[1;32m----> 1\u001b[0m movie \u001b[38;5;241m=\u001b[39m Movie\u001b[38;5;241m.\u001b[39mquery\u001b[38;5;241m.\u001b[39mget_or_404(\u001b[38;5;241m1017\u001b[39m)\n\u001b[0;32m      3\u001b[0m \u001b[38;5;28;01mif\u001b[39;00m movie\u001b[38;5;241m.\u001b[39mmoviebox:\n\u001b[0;32m      4\u001b[0m     db\u001b[38;5;241m.\u001b[39msession\u001b[38;5;241m.\u001b[39mdelete(movie\u001b[38;5;241m.\u001b[39mmoviebox)\n",
      "File \u001b[1;32mD:\\anaconda\\Lib\\site-packages\\flask_sqlalchemy\\query.py:33\u001b[0m, in \u001b[0;36mQuery.get_or_404\u001b[1;34m(self, ident, description)\u001b[0m\n\u001b[0;32m     30\u001b[0m rv \u001b[38;5;241m=\u001b[39m \u001b[38;5;28mself\u001b[39m\u001b[38;5;241m.\u001b[39mget(ident)\n\u001b[0;32m     32\u001b[0m \u001b[38;5;28;01mif\u001b[39;00m rv \u001b[38;5;129;01mis\u001b[39;00m \u001b[38;5;28;01mNone\u001b[39;00m:\n\u001b[1;32m---> 33\u001b[0m     abort(\u001b[38;5;241m404\u001b[39m, description\u001b[38;5;241m=\u001b[39mdescription)\n\u001b[0;32m     35\u001b[0m \u001b[38;5;28;01mreturn\u001b[39;00m rv\n",
      "File \u001b[1;32mD:\\anaconda\\Lib\\site-packages\\flask\\helpers.py:274\u001b[0m, in \u001b[0;36mabort\u001b[1;34m(code, *args, **kwargs)\u001b[0m\n\u001b[0;32m    257\u001b[0m \u001b[38;5;250m\u001b[39m\u001b[38;5;124;03m\"\"\"Raise an :exc:`~werkzeug.exceptions.HTTPException` for the given\u001b[39;00m\n\u001b[0;32m    258\u001b[0m \u001b[38;5;124;03mstatus code.\u001b[39;00m\n\u001b[0;32m    259\u001b[0m \n\u001b[1;32m   (...)\u001b[0m\n\u001b[0;32m    271\u001b[0m \u001b[38;5;124;03m    using Werkzeug's default ``abort``.\u001b[39;00m\n\u001b[0;32m    272\u001b[0m \u001b[38;5;124;03m\"\"\"\u001b[39;00m\n\u001b[0;32m    273\u001b[0m \u001b[38;5;28;01mif\u001b[39;00m current_app:\n\u001b[1;32m--> 274\u001b[0m     current_app\u001b[38;5;241m.\u001b[39maborter(code, \u001b[38;5;241m*\u001b[39margs, \u001b[38;5;241m*\u001b[39m\u001b[38;5;241m*\u001b[39mkwargs)\n\u001b[0;32m    276\u001b[0m _wz_abort(code, \u001b[38;5;241m*\u001b[39margs, \u001b[38;5;241m*\u001b[39m\u001b[38;5;241m*\u001b[39mkwargs)\n",
      "File \u001b[1;32mD:\\anaconda\\Lib\\site-packages\\werkzeug\\exceptions.py:861\u001b[0m, in \u001b[0;36mAborter.__call__\u001b[1;34m(self, code, *args, **kwargs)\u001b[0m\n\u001b[0;32m    858\u001b[0m \u001b[38;5;28;01mif\u001b[39;00m code \u001b[38;5;129;01mnot\u001b[39;00m \u001b[38;5;129;01min\u001b[39;00m \u001b[38;5;28mself\u001b[39m\u001b[38;5;241m.\u001b[39mmapping:\n\u001b[0;32m    859\u001b[0m     \u001b[38;5;28;01mraise\u001b[39;00m \u001b[38;5;167;01mLookupError\u001b[39;00m(\u001b[38;5;124mf\u001b[39m\u001b[38;5;124m\"\u001b[39m\u001b[38;5;124mno exception for \u001b[39m\u001b[38;5;132;01m{\u001b[39;00mcode\u001b[38;5;132;01m!r}\u001b[39;00m\u001b[38;5;124m\"\u001b[39m)\n\u001b[1;32m--> 861\u001b[0m \u001b[38;5;28;01mraise\u001b[39;00m \u001b[38;5;28mself\u001b[39m\u001b[38;5;241m.\u001b[39mmapping[code](\u001b[38;5;241m*\u001b[39margs, \u001b[38;5;241m*\u001b[39m\u001b[38;5;241m*\u001b[39mkwargs)\n",
      "\u001b[1;31mNotFound\u001b[0m: 404 Not Found: The requested URL was not found on the server. If you entered the URL manually please check your spelling and try again."
     ]
    }
   ],
   "source": [
    "movie = Movie.query.get_or_404(1017)\n",
    "\n",
    "if movie.moviebox:\n",
    "    db.session.delete(movie.moviebox)\n",
    "db.session.delete(movie)\n",
    "db.session.commit()"
   ]
  },
  {
   "cell_type": "code",
   "execution_count": 22,
   "id": "9d642f01-209b-48d7-9905-7aefaefc6da4",
   "metadata": {
    "tags": []
   },
   "outputs": [],
   "source": []
  },
  {
   "cell_type": "code",
   "execution_count": null,
   "id": "347bedfe-b449-43c6-b1c6-a533e286c2e3",
   "metadata": {},
   "outputs": [],
   "source": []
  },
  {
   "cell_type": "code",
   "execution_count": 30,
   "id": "00d33df6-ce61-4cdb-b8e5-325e1a71118f",
   "metadata": {
    "tags": []
   },
   "outputs": [],
   "source": [
    "db.session.rollback()"
   ]
  },
  {
   "cell_type": "code",
   "execution_count": 31,
   "id": "19f3180e-2153-4afa-a7e1-a07c1427b0f2",
   "metadata": {
    "tags": []
   },
   "outputs": [
    {
     "data": {
      "text/plain": [
       "[<Movie 战狼2>,\n",
       " <Movie 哪吒之魔童降世>,\n",
       " <Movie 流浪地球>,\n",
       " <Movie 复仇者联盟4>,\n",
       " <Movie 红海行动>,\n",
       " <Movie 唐人街探案2>,\n",
       " <Movie 我不是药神>,\n",
       " <Movie 中国机长>,\n",
       " <Movie 速度与激情8>,\n",
       " <Movie 西虹市首富>,\n",
       " <Movie 复仇者联盟3>,\n",
       " <Movie 捉妖记2>,\n",
       " <Movie 八佰>,\n",
       " <Movie 姜子牙>,\n",
       " <Movie 我和我的家乡>,\n",
       " <Movie 你好，李焕英>,\n",
       " <Movie 长津湖>,\n",
       " <Movie 速度与激情9>]"
      ]
     },
     "execution_count": 31,
     "metadata": {},
     "output_type": "execute_result"
    }
   ],
   "source": [
    "movies"
   ]
  },
  {
   "cell_type": "code",
   "execution_count": null,
   "id": "02e9afb6-4fa0-4848-b741-85f24ebf7866",
   "metadata": {},
   "outputs": [],
   "source": [
    "def delete(movie_id):\n",
    "    movie = Movie.query.get_or_404(movie_id)\n",
    "    \n",
    "    # 解除与 MovieBox 的关联关系\n",
    "    if movie.moviebox:\n",
    "        db.session.delete(movie.moviebox)\n",
    "    \n",
    "    db.session.delete(movie)\n",
    "    db.session.commit()\n",
    "    \n",
    "    flash('Item deleted.')\n",
    "    return redirect(url_for('index'))"
   ]
  }
 ],
 "metadata": {
  "kernelspec": {
   "display_name": "Python 3 (ipykernel)",
   "language": "python",
   "name": "python3"
  },
  "language_info": {
   "codemirror_mode": {
    "name": "ipython",
    "version": 3
   },
   "file_extension": ".py",
   "mimetype": "text/x-python",
   "name": "python",
   "nbconvert_exporter": "python",
   "pygments_lexer": "ipython3",
   "version": "3.11.3"
  }
 },
 "nbformat": 4,
 "nbformat_minor": 5
}
