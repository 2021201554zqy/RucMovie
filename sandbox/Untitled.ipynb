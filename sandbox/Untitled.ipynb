{
 "cells": [
  {
   "cell_type": "code",
   "execution_count": 2,
   "id": "e32fa809-96a1-4106-8322-93cceb210aad",
   "metadata": {
    "tags": []
   },
   "outputs": [],
   "source": [
    "from flask import Flask, render_template\n",
    "from markupsafe import escape\n",
    "\n",
    "from flask_sqlalchemy import SQLAlchemy\n",
    "from sqlalchemy import text\n",
    "from sqlalchemy.sql import func\n",
    "import os\n",
    "\n",
    "app = Flask(__name__)\n",
    "app.config['SQLALCHEMY_DATABASE_URI'] = 'sqlite:///' + os.path.join(app.root_path, '../douban.db')\n",
    "app.config['SQLALCHEMY_TRACK_MODIFICATIONS'] = False \n",
    "app.app_context().push()\n",
    "\n",
    "db = SQLAlchemy(app)\n",
    "\n"
   ]
  },
  {
   "cell_type": "code",
   "execution_count": 3,
   "id": "ad7f0f3f-2793-4a61-9867-e3fa096581a8",
   "metadata": {
    "tags": []
   },
   "outputs": [],
   "source": [
    "movie_actor_association = db.Table(\n",
    "    'movie_actor_association',\n",
    "    db.Column('movie_id', db.Integer, db.ForeignKey('douban_movies.movie_id')),\n",
    "    db.Column('person_id', db.Integer, db.ForeignKey('persons.person_id')),\n",
    ")\n",
    "\n",
    "\n",
    "class DoubanMovie(db.Model):\n",
    "    __tablename__ = 'douban_movies'\n",
    "\n",
    "    movie_id = db.Column(db.Integer, primary_key=True)\n",
    "    movie_name = db.Column(db.String(20))\n",
    "    release_date = db.Column(db.String(15))\n",
    "    country = db.Column(db.String(20))\n",
    "    movie_type = db.Column(db.String(10))\n",
    "    release_year = db.Column(db.Integer)\n",
    "    description = db.Column(db.Text)\n",
    "    douban_url = db.Column(db.String(255))\n",
    "    poster  = db.Column(db.String(255))\n",
    "    douban_rate  = db.Column(db.Float)\n",
    "    rating_count = db.Column(db.Integer)\n",
    "    \n",
    "    # actors = db.relationship('Person', secondary=movie_actor_association, backref='movies', lazy='dynamic')\n",
    "    persons = db.relationship('Person', secondary=movie_actor_association, backref='movies', lazy='dynamic')\n",
    " \n",
    "    def __repr__(self):\n",
    "        return f'<Douban {self.movie_name}>' \n",
    "    \n",
    "class Person(db.Model):\n",
    "    __tablename__ = 'persons'\n",
    "\n",
    "    person_id = db.Column(db.Integer, primary_key=True)\n",
    "    person_name = db.Column(db.String(20))\n",
    "    person_name_en = db.Column(db.String(20))\n",
    "    gender = db.Column(db.String(2))\n",
    "    birth_date = db.Column(db.String(20))\n",
    "    birth_place = db.Column(db.String(20))\n",
    "    birth_year = db.Column(db.Integer())\n",
    "    \n",
    "    def __repr__(self):\n",
    "        return f'<Person {self.person_name}>' "
   ]
  },
  {
   "cell_type": "code",
   "execution_count": 13,
   "id": "324d282c-c0d3-415f-8294-faca90dc0486",
   "metadata": {
    "tags": []
   },
   "outputs": [],
   "source": [
    "movies = DoubanMovie.query.all()"
   ]
  },
  {
   "cell_type": "code",
   "execution_count": 14,
   "id": "547a6935-5871-461d-83a2-10a5353d6165",
   "metadata": {
    "tags": []
   },
   "outputs": [],
   "source": [
    "import pandas as pd"
   ]
  },
  {
   "cell_type": "code",
   "execution_count": 15,
   "id": "fa67f632-b374-4f04-962c-b8d1ef88cf41",
   "metadata": {
    "tags": []
   },
   "outputs": [],
   "source": [
    "movies = pd.DataFrame(movies)"
   ]
  },
  {
   "cell_type": "code",
   "execution_count": 16,
   "id": "53265606-78a8-4ef7-89d1-cb5024499fcd",
   "metadata": {
    "tags": []
   },
   "outputs": [
    {
     "data": {
      "text/html": [
       "<div>\n",
       "<style scoped>\n",
       "    .dataframe tbody tr th:only-of-type {\n",
       "        vertical-align: middle;\n",
       "    }\n",
       "\n",
       "    .dataframe tbody tr th {\n",
       "        vertical-align: top;\n",
       "    }\n",
       "\n",
       "    .dataframe thead th {\n",
       "        text-align: right;\n",
       "    }\n",
       "</style>\n",
       "<table border=\"1\" class=\"dataframe\">\n",
       "  <thead>\n",
       "    <tr style=\"text-align: right;\">\n",
       "      <th></th>\n",
       "      <th>0</th>\n",
       "    </tr>\n",
       "  </thead>\n",
       "  <tbody>\n",
       "    <tr>\n",
       "      <th>0</th>\n",
       "      <td>&lt;Douban 哈利·波特与阿兹卡班的囚徒&gt;</td>\n",
       "    </tr>\n",
       "    <tr>\n",
       "      <th>1</th>\n",
       "      <td>&lt;Douban 大鱼&gt;</td>\n",
       "    </tr>\n",
       "    <tr>\n",
       "      <th>2</th>\n",
       "      <td>&lt;Douban 霸王别姬&gt;</td>\n",
       "    </tr>\n",
       "    <tr>\n",
       "      <th>3</th>\n",
       "      <td>&lt;Douban 放牛班的春天&gt;</td>\n",
       "    </tr>\n",
       "    <tr>\n",
       "      <th>4</th>\n",
       "      <td>&lt;Douban 指环王3：王者无敌&gt;</td>\n",
       "    </tr>\n",
       "    <tr>\n",
       "      <th>...</th>\n",
       "      <td>...</td>\n",
       "    </tr>\n",
       "    <tr>\n",
       "      <th>423</th>\n",
       "      <td>&lt;Douban 阳光普照&gt;</td>\n",
       "    </tr>\n",
       "    <tr>\n",
       "      <th>424</th>\n",
       "      <td>&lt;Douban 利刃出鞘&gt;</td>\n",
       "    </tr>\n",
       "    <tr>\n",
       "      <th>425</th>\n",
       "      <td>&lt;Douban 黑水&gt;</td>\n",
       "    </tr>\n",
       "    <tr>\n",
       "      <th>426</th>\n",
       "      <td>&lt;Douban 调音师&gt;</td>\n",
       "    </tr>\n",
       "    <tr>\n",
       "      <th>427</th>\n",
       "      <td>&lt;Douban 小委托人&gt;</td>\n",
       "    </tr>\n",
       "  </tbody>\n",
       "</table>\n",
       "<p>428 rows × 1 columns</p>\n",
       "</div>"
      ],
      "text/plain": [
       "                          0\n",
       "0    <Douban 哈利·波特与阿兹卡班的囚徒>\n",
       "1               <Douban 大鱼>\n",
       "2             <Douban 霸王别姬>\n",
       "3           <Douban 放牛班的春天>\n",
       "4        <Douban 指环王3：王者无敌>\n",
       "..                      ...\n",
       "423           <Douban 阳光普照>\n",
       "424           <Douban 利刃出鞘>\n",
       "425             <Douban 黑水>\n",
       "426            <Douban 调音师>\n",
       "427           <Douban 小委托人>\n",
       "\n",
       "[428 rows x 1 columns]"
      ]
     },
     "execution_count": 16,
     "metadata": {},
     "output_type": "execute_result"
    }
   ],
   "source": [
    "movies"
   ]
  },
  {
   "cell_type": "code",
   "execution_count": 11,
   "id": "1f8aab86-8a4a-40db-a334-bd4ffffb83c7",
   "metadata": {
    "tags": []
   },
   "outputs": [
    {
     "ename": "AttributeError",
     "evalue": "'DataFrame' object has no attribute 'country'",
     "output_type": "error",
     "traceback": [
      "\u001b[1;31m---------------------------------------------------------------------------\u001b[0m",
      "\u001b[1;31mAttributeError\u001b[0m                            Traceback (most recent call last)",
      "Cell \u001b[1;32mIn[11], line 3\u001b[0m\n\u001b[0;32m      1\u001b[0m \u001b[38;5;28mvars\u001b[39m \u001b[38;5;241m=\u001b[39m {}\n\u001b[0;32m      2\u001b[0m data \u001b[38;5;241m=\u001b[39m movies\u001b[38;5;241m.\u001b[39mloc[\n\u001b[1;32m----> 3\u001b[0m     movies\u001b[38;5;241m.\u001b[39mcountry\u001b[38;5;241m.\u001b[39mstr\u001b[38;5;241m.\u001b[39mcontains(\u001b[38;5;124m'\u001b[39m\u001b[38;5;124m大陆\u001b[39m\u001b[38;5;124m'\u001b[39m), [\u001b[38;5;124m'\u001b[39m\u001b[38;5;124mmovie_name\u001b[39m\u001b[38;5;124m'\u001b[39m, \u001b[38;5;124m'\u001b[39m\u001b[38;5;124mdouban_rate\u001b[39m\u001b[38;5;124m'\u001b[39m]\n\u001b[0;32m      4\u001b[0m ]\u001b[38;5;241m.\u001b[39msort_values(\u001b[38;5;124m'\u001b[39m\u001b[38;5;124mdouban_rate\u001b[39m\u001b[38;5;124m'\u001b[39m, ascending\u001b[38;5;241m=\u001b[39m\u001b[38;5;28;01mFalse\u001b[39;00m)[:\u001b[38;5;241m10\u001b[39m]\u001b[38;5;241m.\u001b[39mset_index(\u001b[38;5;124m'\u001b[39m\u001b[38;5;124mmovie_name\u001b[39m\u001b[38;5;124m'\u001b[39m)\n\u001b[0;32m      5\u001b[0m \u001b[38;5;28mvars\u001b[39m[\u001b[38;5;124m'\u001b[39m\u001b[38;5;124mechart_mainland\u001b[39m\u001b[38;5;124m'\u001b[39m] \u001b[38;5;241m=\u001b[39m hbar_option(\u001b[38;5;124m\"\u001b[39m\u001b[38;5;124m大陆电影高分榜\u001b[39m\u001b[38;5;124m\"\u001b[39m, data\u001b[38;5;241m.\u001b[39mindex\u001b[38;5;241m.\u001b[39mtolist(), data[\u001b[38;5;124m'\u001b[39m\u001b[38;5;124mdouban_rate\u001b[39m\u001b[38;5;124m'\u001b[39m]\u001b[38;5;241m.\u001b[39mtolist())\n",
      "File \u001b[1;32mD:\\anaconda\\Lib\\site-packages\\pandas\\core\\generic.py:5902\u001b[0m, in \u001b[0;36mNDFrame.__getattr__\u001b[1;34m(self, name)\u001b[0m\n\u001b[0;32m   5895\u001b[0m \u001b[38;5;28;01mif\u001b[39;00m (\n\u001b[0;32m   5896\u001b[0m     name \u001b[38;5;129;01mnot\u001b[39;00m \u001b[38;5;129;01min\u001b[39;00m \u001b[38;5;28mself\u001b[39m\u001b[38;5;241m.\u001b[39m_internal_names_set\n\u001b[0;32m   5897\u001b[0m     \u001b[38;5;129;01mand\u001b[39;00m name \u001b[38;5;129;01mnot\u001b[39;00m \u001b[38;5;129;01min\u001b[39;00m \u001b[38;5;28mself\u001b[39m\u001b[38;5;241m.\u001b[39m_metadata\n\u001b[0;32m   5898\u001b[0m     \u001b[38;5;129;01mand\u001b[39;00m name \u001b[38;5;129;01mnot\u001b[39;00m \u001b[38;5;129;01min\u001b[39;00m \u001b[38;5;28mself\u001b[39m\u001b[38;5;241m.\u001b[39m_accessors\n\u001b[0;32m   5899\u001b[0m     \u001b[38;5;129;01mand\u001b[39;00m \u001b[38;5;28mself\u001b[39m\u001b[38;5;241m.\u001b[39m_info_axis\u001b[38;5;241m.\u001b[39m_can_hold_identifiers_and_holds_name(name)\n\u001b[0;32m   5900\u001b[0m ):\n\u001b[0;32m   5901\u001b[0m     \u001b[38;5;28;01mreturn\u001b[39;00m \u001b[38;5;28mself\u001b[39m[name]\n\u001b[1;32m-> 5902\u001b[0m \u001b[38;5;28;01mreturn\u001b[39;00m \u001b[38;5;28mobject\u001b[39m\u001b[38;5;241m.\u001b[39m\u001b[38;5;21m__getattribute__\u001b[39m(\u001b[38;5;28mself\u001b[39m, name)\n",
      "\u001b[1;31mAttributeError\u001b[0m: 'DataFrame' object has no attribute 'country'"
     ]
    }
   ],
   "source": [
    "vars = {}\n",
    "data = movies.loc[\n",
    "    movies.country.str.contains('大陆'), ['movie_name', 'douban_rate']\n",
    "].sort_values('douban_rate', ascending=False)[:10].set_index('movie_name')\n",
    "vars['echart_mainland'] = hbar_option(\"大陆电影高分榜\", data.index.tolist(), data['douban_rate'].tolist())"
   ]
  },
  {
   "cell_type": "code",
   "execution_count": null,
   "id": "6ec238c5-7e20-4220-84c1-ad3121b29a2e",
   "metadata": {},
   "outputs": [],
   "source": []
  }
 ],
 "metadata": {
  "kernelspec": {
   "display_name": "Python 3 (ipykernel)",
   "language": "python",
   "name": "python3"
  },
  "language_info": {
   "codemirror_mode": {
    "name": "ipython",
    "version": 3
   },
   "file_extension": ".py",
   "mimetype": "text/x-python",
   "name": "python",
   "nbconvert_exporter": "python",
   "pygments_lexer": "ipython3",
   "version": "3.11.3"
  }
 },
 "nbformat": 4,
 "nbformat_minor": 5
}
